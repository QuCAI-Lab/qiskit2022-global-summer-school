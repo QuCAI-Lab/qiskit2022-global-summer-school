{
 "cells": [
  {
   "cell_type": "markdown",
   "metadata": {
    "id": "s0zM-GY2vfvU"
   },
   "source": [
    "<!-- Badges: -->\n",
    "\n",
    "<!-- Title: -->\n",
    "<div align=\"center\">\n",
    "  <h1><b><a target=\"_blank\" href=\"https://qiskit.org/events/summer-school/\">Qiskit Global Summer School 2022</a></b></h1>\n",
    "  <h2><b> Supplementary Material </b></h2>\n",
    "</div>\n",
    "<br>\n",
    "\n",
    "<!-- Author: -->\n",
    "<div align=\"center\">\n",
    "  <b>Author: <a target=\"_blank\" href=\"https://github.com/camponogaraviera\">¹Lucas Camponogara Viera</a></b>\n",
    "\n",
    "<!-- Institution: -->\n",
    "<br>\n",
    "<b><a target=\"_blank\" href=\"https://github.com/QuCAI-Lab\">¹QuCAI-Lab - Taipei, Taiwan</a></b>.\n",
    "<br>\n",
    "<b><a target=\"_blank\" href=\"https://en.ntnu.edu.tw/\">¹National Taiwan Normal University - NTNU, Taipei, Taiwan</a></b>.\n",
    "</div>"
   ]
  },
  {
   "cell_type": "markdown",
   "metadata": {
    "id": "nyo8j_Lqvhm4"
   },
   "source": [
    "<div align='center'>\n",
    "<table class=\"tfo-notebook-buttons\" align=\"head\">\n",
    "  <td>\n",
    "    <a target=\"_blank\" href=\"https://github.com/QuCAI-Lab/qiskit2022-global-summer-school\"><img src=\"https://www.tensorflow.org/images/GitHub-Mark-32px.png\" /></a>\n",
    "  </td>\n",
    "</table>\n",
    "</div>"
   ]
  },
  {
   "cell_type": "code",
   "execution_count": null,
   "metadata": {
    "id": "-oF-JsQBIBAx"
   },
   "outputs": [],
   "source": [
    "#!python -V"
   ]
  },
  {
   "cell_type": "code",
   "execution_count": null,
   "metadata": {
    "id": "szLlbxWDIBA4"
   },
   "outputs": [],
   "source": [
    "#import sys\n",
    "#print(sys.version)"
   ]
  },
  {
   "cell_type": "code",
   "execution_count": null,
   "metadata": {
    "id": "W4zjStrDvTKv"
   },
   "outputs": [],
   "source": [
    "# Arrays/Tensors:\n",
    "import numpy as np\n",
    "\n",
    "# Fitting:\n",
    "from scipy.optimize import curve_fit\n",
    "\n",
    "# Plotting:\n",
    "import matplotlib\n",
    "from matplotlib import pyplot as plt\n",
    "plt.rcParams.update({'font.size': 10}) # Enlarge matplotlib fonts."
   ]
  },
  {
   "cell_type": "markdown",
   "metadata": {
    "heading_collapsed": true,
    "id": "a473k4egBbAP"
   },
   "source": [
    "# Review on complex analysis\n",
    "\n",
    "- Complex Numbers.\n",
    "- Complex Functions.\n",
    "- Complex Plane."
   ]
  },
  {
   "cell_type": "markdown",
   "metadata": {
    "heading_collapsed": true,
    "hidden": true,
    "id": "axj2mIbX-ii0"
   },
   "source": [
    "## Complex Numbers\n"
   ]
  },
  {
   "cell_type": "markdown",
   "metadata": {
    "hidden": true,
    "id": "q7mJ6Wgkfrve"
   },
   "source": [
    "A complex number denoted $z \\in \\mathbb{C}$ is an object (or element) of the Field (set) of the complex numbers denoted $\\mathbb{C}$, and is defined as:\n",
    "\n",
    "\\begin{eqnarray}\n",
    "z \\equiv r_1 + ir_2 = \\Re(z)+i\\Im(z),\n",
    "\\end{eqnarray}\n",
    "\n",
    "where:\n",
    "\n",
    "- $r_1 = \\Re(z) \\in \\mathbb{R}$ is the real part.\n",
    "- $r_2 = \\Im(z) \\in \\mathbb{R}$ is the imaginary part.\n",
    "- $i \\equiv \\sqrt{-1} \\therefore i^2=-1$ is the imaginary unit.\n",
    "- $r_1, r_2 \\in \\mathbb{R}$ are real numbers.\n",
    "\n",
    "**Conjugate**\n",
    "\n",
    "The conjugate of a complex number is defined as:\n",
    "\n",
    "\\begin{eqnarray}\n",
    "z^* \\equiv r_1 - ir_2 = \\Re(z)-i\\Im(z),\n",
    "\\end{eqnarray}\n",
    "\n",
    "**Modulus**\n",
    "\n",
    "The modulus of a complex number is defined as:\n",
    "\n",
    "\\begin{eqnarray}\n",
    "|z| \\equiv \\sqrt{zz^*} &=& \\sqrt{(\\Re(z)+i\\Im(z))(\\Re(z)-i\\Im(z))} \\\\ \n",
    "&=& \\sqrt{\\Re(z)\\Re(z)-i\\Re(z)\\Im(z)+i\\Im(z)\\Re(z)-i^{2}\\Im(z)\\Im(z)} \\\\\n",
    "&=& \\sqrt{\\Re(z)\\Re(z)-i^{2}\\Im(z)\\Im(z)} \\\\ \n",
    "&=& \\sqrt{\\Re(z)^{2}+\\Im(z)^{2}} \\\\ \n",
    "\\therefore zz^* &=& |z|^2.\n",
    "\\end{eqnarray}\n",
    "\n",
    "\n",
    "**Properties**\n",
    "\n",
    "- 1) $z_1 \\pm z_2=\\Re(z_1\\pm z_2)+i\\Im(z_1\\pm z_2)$.\n",
    "- 2) $z_1z_2=z_2z_1=\\Re(z_1z_2)+i\\Im(z_1z_2).$\n",
    "- 3) $\\frac{z_1}{z_2} = \\Re(z_1/z_2)+i\\Im(z_1/z_2).$\n",
    "- 4) $z+z^* = 2 \\Re(z)$.\n",
    "- 5) $z-z^* = 2i \\Im(z)$.\n",
    "- 6) $(z_1\\pm z_2)^*=z_1^* \\pm z_2^*.$\n",
    "- 7) $(z_1z_2)^*=z_1^*z_2^*.$\n",
    "- 8) $|z_1z_2|=|z_1||z_2|.$\n",
    "- 9) $\\left|\\frac{z_1}{z_2}\\right|=\\frac{|z_1|}{|z_2|}.$\n",
    "- 10) $|z_1+z_2|^2 = |z_1|^{2}+|z_2|^{2}+ 2\\bigg[\\Re(z_1)\\Re(z_2)+\\Im(z_1)\\Im(z_2)\\bigg].$"
   ]
  },
  {
   "cell_type": "markdown",
   "metadata": {
    "heading_collapsed": true,
    "hidden": true,
    "id": "I7zuu_sM-T8o"
   },
   "source": [
    "## Complex Functions\n"
   ]
  },
  {
   "cell_type": "markdown",
   "metadata": {
    "hidden": true,
    "id": "VdiQldKRBbQP"
   },
   "source": [
    "\n",
    "The Taylor series around the point $x=x_0$ is defined as:\n",
    "\n",
    "\\begin{eqnarray}\n",
    "g(x)|_{x_0}= \\sum_{n=0}^{\\infty} f^{n}(x_0)\\frac{(x-x_0)^n}{n!},\n",
    "\\end{eqnarray}\n",
    "\n",
    "where $f^{n}(x_0) = \\frac{\\partial^n f(x_0)}{\\partial x^n}$ denotes the n-th derivative of $f(x)$ evaluated at the point $x=x_0$. In the particular case of $x_0=0$, the Taylor series becomes the [Maclaurin series](https://mathworld.wolfram.com/MaclaurinSeries.html).\n",
    "\n",
    "From the above Taylor series, it is possible to expand any complex function $f:\\mathbb{C}\\rightarrow\\mathbb{C}$. In particular, the complex exponential function with complex number $z \\equiv x+iy$, can be expanded around $x_0=0$ in the form:\n",
    "\n",
    "\\begin{eqnarray}\n",
    "e^{z}=\\sum_{n=0}^{\\infty}\\frac{z^{n}}{n!} = 1+z+\\frac{z^{2}}{2}+\\frac{z^{3}}{3!}+\\cdots+\\frac{z^{n}}{n!},\n",
    "\\end{eqnarray}\n",
    "\n",
    "which is not itself a polynomial, but the limit of a sequence of polynomials.\n",
    "\n",
    "From the above result, the Euler formula is derived as:\n",
    "\n",
    "\\begin{eqnarray}\n",
    "e^{i\\theta}=\\sum_{n=0}^{\\infty}\\frac{(i\\theta)^{n}}{n!} &=& 1+(i\\theta)+\\frac{(i\\theta)^{2}}{2}+\\frac{(i\\theta)^{3}}{3!}+\\frac{(i\\theta)^{4}}{4!}+\\frac{(i\\theta)^{5}}{5!}+\\cdots+\\frac{(i\\theta)^{n}}{n!} \\\\\n",
    "&=& \\left(1-\\frac{\\theta^{2}}{2}+\\frac{\\theta^{4}}{4!}+\\cdots+\\right) +i\\left(\\theta-\\frac{\\theta^{3}}{3!}+\\frac{\\theta^{5}}{5!}+\\cdots+\\right) \\\\\n",
    "&=& \\cos(\\theta)+i\\sin(\\theta).\n",
    "\\end{eqnarray}\n",
    "\n",
    "For complex numbers $z_1, z_2 \\in \\mathbb{C}$ and real numbers $r_1, r_2 \\in \\mathbb{R}$, the following properties hold:\n",
    "\n",
    "- 1) $e^{r_1+r_2} = e^{r_1} e^{r_2}$.\n",
    "- 2) $e^{r_1+ir_2} = e^{r_1} e^{ir_2}$.\n",
    "- 3) $e^{z_1+z_2} = e^{z_1} e^{z_2}$.\n",
    "- 4) $z_1z_2=r_1e^{i\\theta_1}r_2e^{i\\theta_2}=r_1r_2e^{i(\\theta_1+\\theta_2)}$.\n",
    "- 5) $(e^{i\\theta})^\\dagger  = e^{-i\\theta}$.\n",
    "- 6) $e^{i\\theta}e^{-i\\theta}=1$.\n"
   ]
  },
  {
   "cell_type": "markdown",
   "metadata": {
    "heading_collapsed": true,
    "hidden": true,
    "id": "_pHivrJwIBBF"
   },
   "source": [
    "## Complex Plane"
   ]
  },
  {
   "cell_type": "markdown",
   "metadata": {
    "hidden": true,
    "id": "CmKuniLzIBBF"
   },
   "source": [
    "A complex vector (a.k.a phasor) denoted $\\vec{z}$ in the bidimensional cartesian complex plane has the form:\n",
    "\n",
    "\\begin{eqnarray}\n",
    "\\vec{z} \\equiv \\Re(z) \\hat{e}_1 + \\Im(z)\\hat{e}_2,\n",
    "\\end{eqnarray}\n",
    "where:\n",
    "\n",
    "- $\\Re(z) \\equiv x = |\\vec{z}|\\cos(\\theta) \\in \\mathbb{R}$ is the x-axis coordinate.\n",
    "- $\\Im(z) \\equiv y = |\\vec{z}|\\sin(\\theta) \\in \\mathbb{R}$ is the y-axis coordinate.\n",
    "- $\\hat{e}_i$ denotes the right-handed orthonormal vector (a.k.a versor) satisfying $\\hat{e}_i\\cdot\\hat{e}_j=\\delta_{ij}$. One convention is $\\hat{e}_i=\\hat{i}$ and $\\hat{e}_2 = \\hat{j}$.\n",
    "\n",
    "Adopting the aforementioned convention, the **polar form** of the **complex vector** takes the form:\n",
    "\n",
    "\\begin{eqnarray}\n",
    "\\vec{z} \\equiv \\Re(z) \\hat{i} +\\Im(z) \\hat{j}=|\\vec{z}|\\cos(\\theta)\\hat{i}+|\\vec{z}|\\sin(\\theta)\\hat{j} = |\\vec{z}|(\\cos(\\theta)\\hat{i}+\\sin(\\theta)\\hat{j}) \\doteq r\\hat{r}.\n",
    "\\end{eqnarray}\n",
    "\n",
    "The **polar form** of the **complex number** takes the form:\n",
    "\n",
    "\\begin{eqnarray}\n",
    "z \\equiv \\Re(z)+i\\Im(z)=|\\vec{z}|\\cos(\\theta)+i|\\vec{z}|\\sin(\\theta) = |\\vec{z}|(\\cos(\\theta)+i\\sin(\\theta))=|\\vec{z}|e^{i\\theta}.\n",
    "\\end{eqnarray}\n",
    "\n",
    "And the modulus function is:\n",
    "\n",
    "$$|z|=|\\vec{z}| = \\sqrt{\\vec{z} \\cdot \\vec{z}} = \\sqrt{x^2+y^2}.$$"
   ]
  },
  {
   "cell_type": "markdown",
   "metadata": {
    "heading_collapsed": true,
    "id": "72t2MhAZIBBG"
   },
   "source": [
    "# Review on statistics\n",
    "\n",
    "- Keywords.\n",
    "- Discrete variables.\n",
    "- Continuous variables.\n",
    "- Central limit theorem.\n",
    "- Normal distribution."
   ]
  },
  {
   "cell_type": "markdown",
   "metadata": {
    "heading_collapsed": true,
    "hidden": true,
    "id": "5cOmZ3cbIBBH"
   },
   "source": [
    "## Keywords"
   ]
  },
  {
   "cell_type": "markdown",
   "metadata": {
    "hidden": true,
    "id": "It8Pq-6jIBBI"
   },
   "source": [
    "\n",
    "- **Random (stocastic) variable $X$ with value $x_j$**: is a variable whose outcome cannot be deterministically predicted with certainty. Its value $x_j$ is the outcome of the statistical experiment, i.e, is a scalar value that has an associate probability $p_j$ of occurrence from a probability distribution $\\{p_j\\}_{j=1}^n$. \n",
    "  - [Discrete](https://mathworld.wolfram.com/DiscreteSet.html) random variable: assume a specific value from either a finite or a countably infinite set of possible values (a.k.a distribution).\n",
    "  - Continuous random variable: assume any value within a range of possible values from an uncountable set (or uncountably infinite set). \n",
    "    - Example: values in the range [0,1]."
   ]
  },
  {
   "cell_type": "markdown",
   "metadata": {
    "heading_collapsed": true,
    "hidden": true,
    "id": "Fn0SA2VvIBBI"
   },
   "source": [
    "## Discrete variables"
   ]
  },
  {
   "cell_type": "markdown",
   "metadata": {
    "hidden": true,
    "id": "nHoOaQmCIBBJ"
   },
   "source": [
    "Consider a random variable $X$ with random values $x_j$ from some sample space denoted by $\\Omega=\\{x_j\\}_{j=1}^{d}$ with a corresponding set of probabilities $\\{P(x_j)\\}_{j=1}^d$, where $d=\\dim \\Omega$ is the dimension of the sample space."
   ]
  },
  {
   "cell_type": "markdown",
   "metadata": {
    "hidden": true,
    "id": "qRodtLwkIBBJ"
   },
   "source": [
    "- **Probability of obtaining a random variable $x_j$:** is the **relative** frequency of occurrence of said random variable when the number of measurements $N$ approaches infinity.\n",
    "\n",
    "\\begin{equation}\n",
    "P(x_j) = lim_{N\\rightarrow\\infty} \\frac{N_j}{N} = \\frac{\\text{Number of outcomes of $x_j$}}{\\text{Total no. of measurements}}.\n",
    "\\end{equation}\n",
    "\n",
    "Where the probability is bounded between $0 \\le P(x_j) \\le 1$ and $\\sum_{j=1}^{d} N_j = N$ (only one measurement outcome per measurement), such that\n",
    "\n",
    "$$\\sum_{j=1}^d P(x_j)= \\sum_{j=1}^d \\frac{N_j}{N} = \\frac{\\sum_{j=1}^d N_j}{N} = \\frac{N}{N}=1.$$"
   ]
  },
  {
   "cell_type": "markdown",
   "metadata": {
    "hidden": true,
    "id": "NGpsQxKRIBBK"
   },
   "source": [
    "- **Expected value (a.k.a population mean or weighted average) of a distribution:**\n",
    "\n",
    "$$\\mu \\doteq  \\mathbb{E}[X]  \\doteq \\langle X\\rangle = \\sum_{j=1}^{\\dim \\Omega = d} x_jP(x_j),$$\n",
    "\n",
    "where $P(x_j)$ is the probability as defined previously.\n",
    "\n",
    "The expected value is not the most likely value of $X$ and may not even be a possible value of $X$, but it is bound by \n",
    "\n",
    "$$X_{\\min} \\leq\\langle X\\rangle\\leq X_{\\max}.$$\n",
    "\n",
    "- Properties:\n",
    "\n",
    "    1. $\\mathbb{E}[X+Y] = \\mathbb{E}[X]+ \\mathbb{E}[Y].$\n",
    "    \n",
    "    2. $\\mathbb{E}(\\gamma X) = \\gamma \\mathbb{E}(X).$\n",
    "\n",
    "    3. [Law of iterated expectations a.k.a law of total expectation](https://en.wikipedia.org/wiki/Law_of_total_expectation): $\\mathbb{E}[\\mathbb{E}[X]]=\\mathbb{E}[X].$\n",
    "    - Example using (2) and (3): $\\mathbb{E}(2X\\mathbb{E}(X)) = 2E(X\\mathbb{E}(X))=2\\mathbb{E}(X)\\mathbb{E}(X).$"
   ]
  },
  {
   "cell_type": "markdown",
   "metadata": {
    "hidden": true,
    "id": "XfcjkKoXIBBK"
   },
   "source": [
    "- **Expected value of a function:**\n",
    "\n",
    "$$\\langle f(X) \\rangle = \\sum_{j=1}^d f(x_j) P (x_j).$$"
   ]
  },
  {
   "cell_type": "markdown",
   "metadata": {
    "hidden": true,
    "id": "_4Tk2rgVIBBL"
   },
   "source": [
    "- **Mean value (a.k.a sample mean, arithmetic average or standard average):**\n",
    "    \n",
    "When the probability distribution is equiprobable, that is, when all probabilities are equal, the expected value equals the mean value:\n",
    "\n",
    "\\begin{equation}\n",
    "\\bar{x} = \\sum_{j=1}^{\\dim \\Omega = d} x_j P(x_j) = P(x_j)\\sum_{j=1}^{d} x_j = \\frac{1}{d} \\sum_{j=1}^{d} x_j.\n",
    "\\end{equation}\n",
    "\n",
    "Another definition is:\n",
    "\n",
    "\\begin{equation}\n",
    "\\bar{x} = \\frac{\\sum_{j=1}^{d} N_j \\bar{x_j}}{\\sum_{j=1}^d N_j}.\n",
    "\\end{equation}"
   ]
  },
  {
   "cell_type": "markdown",
   "metadata": {
    "hidden": true,
    "id": "pJ0wTBQ7IBBL"
   },
   "source": [
    "- **Standard deviation:** is a measure of the amount of dispersion of the data distribution relative to its mean.\n",
    "\n",
    "$$\\sigma_X = \\sqrt{\\langle (X-\\langle X\\rangle)^2\\rangle} = \\sqrt{\\sum_{j=1}^d (x_j - \\langle X \\rangle)^2 P(x_j)}.$$"
   ]
  },
  {
   "cell_type": "markdown",
   "metadata": {
    "hidden": true,
    "id": "vU_USz9sIBBM"
   },
   "source": [
    "- **Variance:** is a measure of how distant from the mean a random variable/outcome is. A zero variance means that all values are equal.\n",
    "\n",
    "\\begin{align}\n",
    "\\text{Var} (X) \\doteq \\mathbb{V}(x) \\doteq \\sigma_X^2 &= \\langle (X - \\langle X \\rangle)^2 \\rangle \\\\\n",
    "&= \\sum_{j=1}^d  P(x_j) (x_j - \\langle X \\rangle)^2 \\\\\n",
    "&=  \\sum_{j=1}^d P(x_j) (x_j^2 -2x_j \\langle X\\rangle + \\langle X\\rangle^2)\\\\\n",
    "&= \\sum_{j=1}^d P(x_j) x_j^2 \\\\ \n",
    "&- 2\\langle X\\rangle \\sum_{j=1}^d x_jP(x_j) \\\\\n",
    "&+ \\langle X\\rangle^2 \\sum_{j=1}^d P(x_j)\\\\\n",
    "&= \\langle X^2\\rangle -2 \\langle X \\rangle \\langle X \\rangle + \\langle X\\rangle^2 \\cdot 1\\\\\n",
    "&=  \\langle X^2 \\rangle -2\\langle X \\rangle^2 + \\langle X\\rangle^2\\\\\n",
    "&=\\langle X^2 \\rangle-\\langle X\\rangle^2.\n",
    "\\end{align}"
   ]
  },
  {
   "cell_type": "markdown",
   "metadata": {
    "heading_collapsed": true,
    "hidden": true,
    "id": "68YMQpxtIBBM"
   },
   "source": [
    "## Continuous variables"
   ]
  },
  {
   "cell_type": "markdown",
   "metadata": {
    "hidden": true,
    "id": "yty7UlZ4IBBM"
   },
   "source": [
    "- **Probability density:**\n",
    "\n",
    "In the continuous case, the probability associated to a specific value $x_j$ of a random variable $X$ loses meaning, and one must define a probability density $\\rho(x)$ per infinitesimal interval $dx$, where \n",
    "\n",
    "$$\\rho(x)dx$$ \n",
    "\n",
    "is the probability of measuring an outcome of $X$ within the interval $x$ and $x+dx$."
   ]
  },
  {
   "cell_type": "markdown",
   "metadata": {
    "hidden": true,
    "id": "y8KIlhPWIBBN"
   },
   "source": [
    "- **Relative frequency:**\n",
    "\n",
    "The relative frequency of occurrence of values of $X$ within the finite interval $[a,b]$ is the sum of all probabilities in the infinitesimal intervals:\n",
    "\n",
    "\\begin{equation}\n",
    "P(x\\in[a,b]) = \\int_a^b \\rho(x)dx.\n",
    "\\end{equation}\n",
    "\n",
    "The normalization condition follows:\n",
    "\n",
    "\\begin{equation}\n",
    "\\int_{-\\infty}^{+\\infty} \\rho(x)dx = 1.\n",
    "\\end{equation}\n",
    "\n",
    "Given the normalization condition is satisfied, while $0 \\le P(x) \\le 1$, one can also have: $0 \\le \\rho(x) \\leq 1$ or $\\rho(x)>1$."
   ]
  },
  {
   "cell_type": "markdown",
   "metadata": {
    "hidden": true,
    "id": "hMWoEuvLIBBN"
   },
   "source": [
    "- **Expected value (a.k.a population mean or weighted average):**\n",
    "\n",
    "\\begin{eqnarray}\n",
    "\\langle X \\rangle = \\int_{-\\infty}^{+\\infty} x \\rho(x) dx.\n",
    "\\end{eqnarray}"
   ]
  },
  {
   "cell_type": "markdown",
   "metadata": {
    "hidden": true,
    "id": "64jeeQmUIBBN"
   },
   "source": [
    "- **Expected value of a function:**\n",
    "\n",
    "$$\\langle f(X) \\rangle =  \\int_{-\\infty}^{+\\infty} f(x) \\rho(x)dx.$$\n",
    "\n",
    "Example: $\\langle X^2 \\rangle = \\int_{-\\infty}^{+\\infty} x^2 \\rho(x) dx.$"
   ]
  },
  {
   "cell_type": "markdown",
   "metadata": {
    "hidden": true,
    "id": "gHc3K4c9IBBN"
   },
   "source": [
    "- **Standard deviation:** is a measure of the amount of dispersion of the data distribution relative to its mean.\n",
    "\n",
    "$$\\sigma_X = \\sqrt{\\langle (X-\\langle X\\rangle)^2\\rangle} = \\sqrt{\\int_{-\\infty}^{+\\infty} (x - \\langle X \\rangle)^2 \\rho(x) dx}.$$"
   ]
  },
  {
   "cell_type": "markdown",
   "metadata": {
    "hidden": true,
    "id": "_ojT-N-FIBBP"
   },
   "source": [
    "- **Variance:** is a measure of how distant from the mean a random variable/outcome is. A zero variance means that all values are equal.\n",
    "\n",
    "\\begin{eqnarray}\n",
    "\\sigma_X^2 = \\langle (X - \\langle X \\rangle)^2 \\rangle = \\int_{-\\infty}^{+\\infty} (x - \\langle X \\rangle)^2 \\rho(x) dx = \\langle X^2 \\rangle - \\langle X \\rangle^2. \n",
    "\\end{eqnarray}"
   ]
  },
  {
   "cell_type": "markdown",
   "metadata": {
    "heading_collapsed": true,
    "hidden": true,
    "id": "L3igznp2IBBQ"
   },
   "source": [
    "## Central limit theorem"
   ]
  },
  {
   "cell_type": "markdown",
   "metadata": {
    "hidden": true,
    "id": "R4kdxMqAIBBQ"
   },
   "source": [
    "\"The central limit theorem states that the sum of a number of independent and identically distributed (iid) random variables with finite variances will tend to a normal distribution as the number of variables grows.\" —Wikipedia.\n",
    "\n",
    "In other words, the central limit theorem (CLT) states that the probability distribution of the mean value $\\langle X \\rangle$ of a random variable $X$ will have an approximate standard normal distribution with a width proportional to $\\frac{\\sigma = 1}{\\sqrt{N}}$ when this variable is measured $N$ number of times."
   ]
  },
  {
   "cell_type": "markdown",
   "metadata": {
    "heading_collapsed": true,
    "hidden": true,
    "id": "lkmyFnV5IBBQ"
   },
   "source": [
    "## Normal distribution"
   ]
  },
  {
   "cell_type": "markdown",
   "metadata": {
    "hidden": true,
    "id": "u5jYbWS-IBBR"
   },
   "source": [
    "The [probability density function (PDF)](https://en.wikipedia.org/wiki/Probability_density_function) of a [normal (a.k.a Gaussian) distribution](https://en.wikipedia.org/wiki/Normal_distribution) or bell curve follows: \n",
    "\n",
    "$$f(x, \\mu, \\sigma) = \\frac{1}{(\\sigma \\sqrt{2 \\pi})}e^{\\frac{-(x-\\mu)^2}{2 \\sigma^2}}.$$\n",
    "\n",
    "Legend:\n",
    "\n",
    "- $x$ denotes a random/stochastic value (of a [random variable](https://en.wikipedia.org/wiki/Random_variable) $X$) sampled from some [sample/outcome space](https://en.wikipedia.org/wiki/Sample_space).\n",
    "\n",
    "\n",
    "- $\\mu$ denotes the population [expected value](https://en.wikipedia.org/wiki/Expected_value) (a.k.a [population mean value or weighted average](https://en.wikipedia.org/wiki/Statistical_population#Mean)) of the distribution. \n",
    "\n",
    "\n",
    "- $\\sigma$ denotes the standard deviation.\n",
    "\n",
    "\n",
    "- $\\sigma^2 \\doteq \\mathbb{V}(x)$ denotes the variance."
   ]
  },
  {
   "cell_type": "markdown",
   "metadata": {
    "hidden": true,
    "id": "d9w_Sm61IBBR"
   },
   "source": [
    "Takeaways:\n",
    "\n",
    "- A standard normal distribution is a normal distribution with mean zero ($\\mu=0$) and unit standard deviation ($\\sigma$=1).\n",
    "\n",
    "- The binomial distribution $(1/2^n) C(k,n)$ approaches the normal distribution when $n$ approachs infinity."
   ]
  },
  {
   "cell_type": "markdown",
   "metadata": {
    "heading_collapsed": true,
    "id": "LilWRhKCIBBR"
   },
   "source": [
    "# Review on python data types\n",
    "\n",
    "- Taxonomy.\n",
    "- Number datatypes.\n",
    "- String datatype.\n",
    "- Container (collection) datatypes.\n",
    "- Conversions."
   ]
  },
  {
   "cell_type": "code",
   "execution_count": null,
   "metadata": {
    "hidden": true,
    "id": "aPUE_ZaAIBBS",
    "outputId": "6414d6ee-b5e6-4e1d-d49c-270ed9fe66b9"
   },
   "outputs": [
    {
     "name": "stdout",
     "output_type": "stream",
     "text": [
      "The Zen of Python, by Tim Peters\n",
      "\n",
      "Beautiful is better than ugly.\n",
      "Explicit is better than implicit.\n",
      "Simple is better than complex.\n",
      "Complex is better than complicated.\n",
      "Flat is better than nested.\n",
      "Sparse is better than dense.\n",
      "Readability counts.\n",
      "Special cases aren't special enough to break the rules.\n",
      "Although practicality beats purity.\n",
      "Errors should never pass silently.\n",
      "Unless explicitly silenced.\n",
      "In the face of ambiguity, refuse the temptation to guess.\n",
      "There should be one-- and preferably only one --obvious way to do it.\n",
      "Although that way may not be obvious at first unless you're Dutch.\n",
      "Now is better than never.\n",
      "Although never is often better than *right* now.\n",
      "If the implementation is hard to explain, it's a bad idea.\n",
      "If the implementation is easy to explain, it may be a good idea.\n",
      "Namespaces are one honking great idea -- let's do more of those!\n"
     ]
    }
   ],
   "source": [
    "import this"
   ]
  },
  {
   "cell_type": "markdown",
   "metadata": {
    "heading_collapsed": true,
    "hidden": true,
    "id": "j2Fc3fraIBBT"
   },
   "source": [
    "## Taxonomy"
   ]
  },
  {
   "cell_type": "markdown",
   "metadata": {
    "hidden": true,
    "id": "CDbMoBMSIBBT"
   },
   "source": [
    "- Number data types: are immutable data types.\n",
    "  - Examples:\n",
    "    - Integer: `int('10')`.\n",
    "    - float: `float('10')`.\n",
    "    - complex: `complex(1, 2)`, or `complex('1+2j')`, or `1+2j`.\n",
    "    - Boolean (logic value): `bool(0)`, `True`, `False`.\n",
    "\n",
    "- String data type: is an immutable, ordered and heterogeneous data type. \n",
    "  - Usage:\n",
    "    - single quotes: `'a12'`\n",
    "    - double quotes: `\"a12\"`\n",
    "    - triple quotes: `'''a12'''`\n",
    "    - built-in: `str(10)`\n",
    "\n",
    "- Container (collection) data types:\n",
    "\n",
    "  - List: is a mutable, ordered and heterogeneous collection of objects. \n",
    "    - Entries: each entry (value/object) within a list can be of any data type.\n",
    "    - Usage: `list('ab')` or `list(['a','b'])`, or `['a','b']`.\n",
    "\n",
    "  - Tuple: is an immutable, ordered and heterogeneous collection of objects. \n",
    "    - Entries: each entry (value/object) within a tuple can be of any data type.\n",
    "    - Usage: `tuple('ab')`, or `tuple(['a','b'])`, or `('a','b')`.\n",
    "\n",
    "  - Set: is a mutable, unordered and heterogeneous collection of objects. \n",
    "    - Entries: sets do not allow duplicate entries. Entries are of immutable data type. \n",
    "    - Usage: `set('ab')`, or `set(['a','b'])`, or `{'a','b'}`.\n",
    "\n",
    "  - Dictionary: is a mutable, ordered (Python version >=3.7) and heterogeneous key-value mapping data type. Dictionaries do not allow duplicate keys. \n",
    "    - Keys: are of immutable data types, i.e, can only be of type string, integer, float, complex, Boolean, and tuple.\n",
    "    - Values: can be of any data type.\n",
    "    - Usage: `dict(a=1, b=2)` or `{'a':1, 'b':2}` or `{0: 1, 'b': '2'}`."
   ]
  },
  {
   "cell_type": "markdown",
   "metadata": {
    "hidden": true,
    "id": "3UrQJm-kIBBU"
   },
   "source": [
    "- Ordered collections: preserve the order.\n",
    "  - Examples: strings, lists, tuples, and dictionaries (Python version >=3.7).\n",
    "\n",
    "\n",
    "- Unordered collections: do not preserve the order.\n",
    "  - Examples: sets, and dictionaries (Python version <3.7).\n",
    "\n",
    "\n",
    "- Mutable objects: can be changed (deleted, updated).\n",
    "  - Examples: lists, sets, and dictionaries.\n",
    "\n",
    "\n",
    "- Immutable objects: cannot be changed.\n",
    "  - Examples: string, integer, float, complex, Boolean, and tuple.\n",
    "\n",
    "\n",
    "- Heterogeneous collection: the collection allows objects of different (but not any) datatypes.\n",
    "\n",
    "\n",
    "- Iterable objects: \n",
    "  - Examples: string, list and tuple.\n",
    "  \n",
    "  \n",
    "- Non-iterable objects:\n",
    "  - Examples: set, and dictionary.\n",
    "  - Slicing of a set throws an error: 'set' object is not subscriptable.\n",
    "  - Slicing of a set throws an error: unhashable type: 'slice'."
   ]
  },
  {
   "cell_type": "markdown",
   "metadata": {
    "heading_collapsed": true,
    "hidden": true,
    "id": "BPIPfpVuIBBU"
   },
   "source": [
    "## Number data types"
   ]
  },
  {
   "cell_type": "markdown",
   "metadata": {
    "heading_collapsed": true,
    "hidden": true,
    "id": "3o7P3ukGIBBU"
   },
   "source": [
    "### Int"
   ]
  },
  {
   "cell_type": "code",
   "execution_count": null,
   "metadata": {
    "hidden": true,
    "id": "YmBlTnOWIBBV",
    "outputId": "7ec6bb51-c5e9-4a8a-d290-b830c9fa741e"
   },
   "outputs": [
    {
     "data": {
      "text/plain": [
       "10"
      ]
     },
     "execution_count": 169,
     "metadata": {},
     "output_type": "execute_result"
    }
   ],
   "source": [
    "int('10')"
   ]
  },
  {
   "cell_type": "code",
   "execution_count": null,
   "metadata": {
    "hidden": true,
    "id": "dwZSuLpkIBBV",
    "outputId": "35622a53-a753-4a43-d069-c840b455784d"
   },
   "outputs": [
    {
     "data": {
      "text/plain": [
       "True"
      ]
     },
     "execution_count": 170,
     "metadata": {},
     "output_type": "execute_result"
    }
   ],
   "source": [
    "int('10')==10"
   ]
  },
  {
   "cell_type": "code",
   "execution_count": null,
   "metadata": {
    "hidden": true,
    "id": "lhhmfRHpIBBV",
    "outputId": "3f7213dc-9fb9-4ca0-9860-b80f0d9449a6"
   },
   "outputs": [
    {
     "data": {
      "text/plain": [
       "True"
      ]
     },
     "execution_count": 183,
     "metadata": {},
     "output_type": "execute_result"
    }
   ],
   "source": [
    "int == type(10)"
   ]
  },
  {
   "cell_type": "markdown",
   "metadata": {
    "heading_collapsed": true,
    "hidden": true,
    "id": "PIv-y-EAIBBW"
   },
   "source": [
    "### Float"
   ]
  },
  {
   "cell_type": "code",
   "execution_count": null,
   "metadata": {
    "hidden": true,
    "id": "i7ecV8g9IBBW",
    "outputId": "dbc9f7d6-16df-4332-f008-920312706bd2"
   },
   "outputs": [
    {
     "data": {
      "text/plain": [
       "10.0"
      ]
     },
     "execution_count": 111,
     "metadata": {},
     "output_type": "execute_result"
    }
   ],
   "source": [
    "float('10')"
   ]
  },
  {
   "cell_type": "code",
   "execution_count": null,
   "metadata": {
    "hidden": true,
    "id": "z3ZhiiFKIBBW",
    "outputId": "85f19692-d43d-4fa5-df69-46006675a205"
   },
   "outputs": [
    {
     "data": {
      "text/plain": [
       "True"
      ]
     },
     "execution_count": 168,
     "metadata": {},
     "output_type": "execute_result"
    }
   ],
   "source": [
    "float('10')==10."
   ]
  },
  {
   "cell_type": "code",
   "execution_count": null,
   "metadata": {
    "hidden": true,
    "id": "NpSVXgH5IBBW",
    "outputId": "84ffbc93-e349-4972-81f8-0d191d68a5a9"
   },
   "outputs": [
    {
     "data": {
      "text/plain": [
       "True"
      ]
     },
     "execution_count": 181,
     "metadata": {},
     "output_type": "execute_result"
    }
   ],
   "source": [
    "float == type(10.)"
   ]
  },
  {
   "cell_type": "markdown",
   "metadata": {
    "heading_collapsed": true,
    "hidden": true,
    "id": "jcbL4C3KEZBL",
    "jp-MarkdownHeadingCollapsed": true,
    "tags": []
   },
   "source": [
    "### Complex"
   ]
  },
  {
   "cell_type": "code",
   "execution_count": null,
   "metadata": {
    "hidden": true,
    "id": "RQgoc5g0IBBX",
    "outputId": "2f3adce5-848b-41f2-faac-138db530a960"
   },
   "outputs": [
    {
     "data": {
      "text/plain": [
       "(1+2j)"
      ]
     },
     "execution_count": 100,
     "metadata": {},
     "output_type": "execute_result"
    }
   ],
   "source": [
    "complex(1, 2) # Python Built-in function."
   ]
  },
  {
   "cell_type": "code",
   "execution_count": null,
   "metadata": {
    "hidden": true,
    "id": "YnTdlQvcIBBX",
    "outputId": "687f542f-cb83-4ab9-c3c8-e58feb5e8eb2"
   },
   "outputs": [
    {
     "data": {
      "text/plain": [
       "(1+2j)"
      ]
     },
     "execution_count": 101,
     "metadata": {},
     "output_type": "execute_result"
    }
   ],
   "source": [
    "complex('1+2j')"
   ]
  },
  {
   "cell_type": "code",
   "execution_count": null,
   "metadata": {
    "hidden": true,
    "id": "om0PuZiKIBBY",
    "outputId": "26017e12-988e-4c45-eb0e-e80806d13eed"
   },
   "outputs": [
    {
     "data": {
      "text/plain": [
       "True"
      ]
     },
     "execution_count": 102,
     "metadata": {},
     "output_type": "execute_result"
    }
   ],
   "source": [
    "(1+2j) ==  1+2j"
   ]
  },
  {
   "cell_type": "code",
   "execution_count": null,
   "metadata": {
    "colab": {
     "base_uri": "https://localhost:8080/"
    },
    "executionInfo": {
     "elapsed": 14,
     "status": "ok",
     "timestamp": 1674698256230,
     "user": {
      "displayName": "Lucas Camponogara Viera",
      "userId": "14322290658374940800"
     },
     "user_tz": -480
    },
    "hidden": true,
    "id": "qxHkDDaZEZBN",
    "outputId": "15c2ef41-bf5a-42ac-e037-a91d883c8362"
   },
   "outputs": [
    {
     "name": "stdout",
     "output_type": "stream",
     "text": [
      "<class 'complex'>\n",
      "<class 'complex'>\n",
      "<class 'complex'>\n"
     ]
    },
    {
     "data": {
      "text/plain": [
       "True"
      ]
     },
     "execution_count": 103,
     "metadata": {},
     "output_type": "execute_result"
    }
   ],
   "source": [
    "z1=complex(1,2) \n",
    "z2=complex('1+2j')\n",
    "z3=2j+1\n",
    "\n",
    "for z in [z1, z2, z3]:\n",
    "  print(type(z))\n",
    "      \n",
    "z1==z2==z3"
   ]
  },
  {
   "cell_type": "code",
   "execution_count": null,
   "metadata": {
    "hidden": true,
    "id": "pw-gq_WkIBBZ",
    "outputId": "45c6f6e6-c4c6-46a2-c216-0554da4c21a1"
   },
   "outputs": [
    {
     "data": {
      "text/plain": [
       "(False, False)"
      ]
     },
     "execution_count": 104,
     "metadata": {},
     "output_type": "execute_result"
    }
   ],
   "source": [
    "z1 is z2, id(z1) == id(z2) "
   ]
  },
  {
   "cell_type": "markdown",
   "metadata": {
    "hidden": true,
    "id": "nuaNt3Jc_s-B"
   },
   "source": [
    "Note that `z1 is z2` returns False because the objects are not the same even though they are equal, i.e, they have different ids. Recall that the `is` keyword is used to check wether two objects are the same, regardless if they are equal. Object means id! A different variable assignment creates a different object."
   ]
  },
  {
   "cell_type": "code",
   "execution_count": null,
   "metadata": {
    "colab": {
     "base_uri": "https://localhost:8080/"
    },
    "executionInfo": {
     "elapsed": 449,
     "status": "ok",
     "timestamp": 1674698071925,
     "user": {
      "displayName": "Lucas Camponogara Viera",
      "userId": "14322290658374940800"
     },
     "user_tz": -480
    },
    "hidden": true,
    "id": "p_O5pywpx6Jk",
    "outputId": "2a482028-4b6f-4f86-9d83-5d7c1c29ca5f"
   },
   "outputs": [
    {
     "data": {
      "text/plain": [
       "(1-2j)"
      ]
     },
     "execution_count": 105,
     "metadata": {},
     "output_type": "execute_result"
    }
   ],
   "source": [
    "conjugate=np.conj(z1) # Complex cojugate\n",
    "conjugate"
   ]
  },
  {
   "cell_type": "code",
   "execution_count": null,
   "metadata": {
    "colab": {
     "base_uri": "https://localhost:8080/"
    },
    "executionInfo": {
     "elapsed": 12,
     "status": "ok",
     "timestamp": 1674698073180,
     "user": {
      "displayName": "Lucas Camponogara Viera",
      "userId": "14322290658374940800"
     },
     "user_tz": -480
    },
    "hidden": true,
    "id": "1u1LG_6qyFAT",
    "outputId": "4619ae51-9ad0-45b3-9321-71db8eb8911a"
   },
   "outputs": [
    {
     "data": {
      "text/plain": [
       "(5+0j)"
      ]
     },
     "execution_count": 106,
     "metadata": {},
     "output_type": "execute_result"
    }
   ],
   "source": [
    "absolute_value_square = z1*conjugate # Absolute (modulus) value square.\n",
    "absolute_value_square"
   ]
  },
  {
   "cell_type": "code",
   "execution_count": null,
   "metadata": {
    "colab": {
     "base_uri": "https://localhost:8080/"
    },
    "executionInfo": {
     "elapsed": 445,
     "status": "ok",
     "timestamp": 1674698664754,
     "user": {
      "displayName": "Lucas Camponogara Viera",
      "userId": "14322290658374940800"
     },
     "user_tz": -480
    },
    "hidden": true,
    "id": "djSMiJJWEZBO",
    "outputId": "b28db03d-264c-4e90-b04a-fff82a1fc001"
   },
   "outputs": [
    {
     "name": "stdout",
     "output_type": "stream",
     "text": [
      "(1-2j)\n",
      "(1-2j)\n",
      "(1-2j)\n"
     ]
    }
   ],
   "source": [
    "def conj(z: complex) -> complex:\n",
    "  '''\n",
    "  Custom function to conjugate a complex number.\n",
    "\n",
    "  Args:\n",
    "    - z (complex): a complex number.\n",
    "  \n",
    "  Returns:\n",
    "    - conjugate (complex): the complex conjugate. The complex number will be equal to its complex conjugate iff the input is a real number.\n",
    "  '''\n",
    "  conjugate = z.real-z.imag*1j\n",
    "  return conjugate\n",
    "  \n",
    "for complex_n in [z1, z2, z3]:\n",
    "  print(conj(complex_n))"
   ]
  },
  {
   "cell_type": "code",
   "execution_count": null,
   "metadata": {
    "colab": {
     "base_uri": "https://localhost:8080/"
    },
    "executionInfo": {
     "elapsed": 437,
     "status": "ok",
     "timestamp": 1674698668502,
     "user": {
      "displayName": "Lucas Camponogara Viera",
      "userId": "14322290658374940800"
     },
     "user_tz": -480
    },
    "hidden": true,
    "id": "hH_ZnSksEZBN",
    "outputId": "acd91059-592f-4788-e4e5-fa5cd510f38f"
   },
   "outputs": [
    {
     "name": "stdout",
     "output_type": "stream",
     "text": [
      "<method-wrapper '__abs__' of complex object at 0x7f2e93688d90> \n",
      "\n"
     ]
    },
    {
     "data": {
      "text/plain": [
       "True"
      ]
     },
     "execution_count": 108,
     "metadata": {},
     "output_type": "execute_result"
    }
   ],
   "source": [
    "print(getattr(z1, '__abs__'), '\\n')\n",
    "z1.__abs__() == np.sqrt(absolute_value_square)"
   ]
  },
  {
   "cell_type": "code",
   "execution_count": null,
   "metadata": {
    "colab": {
     "base_uri": "https://localhost:8080/"
    },
    "executionInfo": {
     "elapsed": 15,
     "status": "ok",
     "timestamp": 1674698669988,
     "user": {
      "displayName": "Lucas Camponogara Viera",
      "userId": "14322290658374940800"
     },
     "user_tz": -480
    },
    "hidden": true,
    "id": "6oBiAtkIAZ9K",
    "outputId": "240ca1d4-2142-494c-f609-c6fb2e471cc3"
   },
   "outputs": [
    {
     "data": {
      "text/plain": [
       "['__abs__',\n",
       " '__add__',\n",
       " '__bool__',\n",
       " '__class__',\n",
       " '__delattr__',\n",
       " '__dir__',\n",
       " '__divmod__',\n",
       " '__doc__',\n",
       " '__eq__',\n",
       " '__float__',\n",
       " '__floordiv__',\n",
       " '__format__',\n",
       " '__ge__',\n",
       " '__getattribute__',\n",
       " '__getnewargs__',\n",
       " '__gt__',\n",
       " '__hash__',\n",
       " '__init__',\n",
       " '__init_subclass__',\n",
       " '__int__',\n",
       " '__le__',\n",
       " '__lt__',\n",
       " '__mod__',\n",
       " '__mul__',\n",
       " '__ne__',\n",
       " '__neg__',\n",
       " '__new__',\n",
       " '__pos__',\n",
       " '__pow__',\n",
       " '__radd__',\n",
       " '__rdivmod__',\n",
       " '__reduce__',\n",
       " '__reduce_ex__',\n",
       " '__repr__',\n",
       " '__rfloordiv__',\n",
       " '__rmod__',\n",
       " '__rmul__',\n",
       " '__rpow__',\n",
       " '__rsub__',\n",
       " '__rtruediv__',\n",
       " '__setattr__',\n",
       " '__sizeof__',\n",
       " '__str__',\n",
       " '__sub__',\n",
       " '__subclasshook__',\n",
       " '__truediv__',\n",
       " 'conjugate',\n",
       " 'imag',\n",
       " 'real']"
      ]
     },
     "execution_count": 109,
     "metadata": {},
     "output_type": "execute_result"
    }
   ],
   "source": [
    "dir(z1)"
   ]
  },
  {
   "cell_type": "markdown",
   "metadata": {
    "heading_collapsed": true,
    "hidden": true,
    "id": "DpRpVZ1PIBBb"
   },
   "source": [
    "### Bool"
   ]
  },
  {
   "cell_type": "code",
   "execution_count": null,
   "metadata": {
    "hidden": true,
    "id": "DWdpAq7hIBBb",
    "outputId": "a42ba3a3-d5d9-4d0f-a726-0d502b03ed63"
   },
   "outputs": [
    {
     "data": {
      "text/plain": [
       "(False, True)"
      ]
     },
     "execution_count": 110,
     "metadata": {},
     "output_type": "execute_result"
    }
   ],
   "source": [
    "bool(0), bool(1)"
   ]
  },
  {
   "cell_type": "markdown",
   "metadata": {
    "heading_collapsed": true,
    "hidden": true,
    "id": "kO6h6B9oIBBb"
   },
   "source": [
    "## String data type"
   ]
  },
  {
   "cell_type": "code",
   "execution_count": null,
   "metadata": {
    "hidden": true,
    "id": "sSyKp-Z-IBBb",
    "outputId": "1c0bcdb5-bf9c-468d-ea13-98e889c9faf3"
   },
   "outputs": [
    {
     "name": "stdout",
     "output_type": "stream",
     "text": [
      "<class 'str'>\n",
      "a, a, 1, 1.0, 1+2j, True, False, [1,2], (1,2), {1,2}, {0: 1, 'b': '2'}\n"
     ]
    }
   ],
   "source": [
    "# Immutable object. Ordered. Allow duplicate entries. \n",
    "# Entries are of any data type: string, integer, float, complex, Boolean, list, tuple, set, dict.\n",
    "\n",
    "str_= \"a, a, 1, 1.0, 1+2j, True, False, [1,2], (1,2), {1,2}, {0: 1, 'b': '2'}\"\n",
    "    \n",
    "print(f'{type(str_)}\\n{str_}')"
   ]
  },
  {
   "cell_type": "code",
   "execution_count": null,
   "metadata": {
    "hidden": true,
    "id": "Dj_cu_a_IBBc",
    "outputId": "6f471626-a05a-4913-917c-490664d5e67e"
   },
   "outputs": [
    {
     "data": {
      "text/plain": [
       "True"
      ]
     },
     "execution_count": 3,
     "metadata": {},
     "output_type": "execute_result"
    }
   ],
   "source": [
    "str(10) == '10' == \"10\" == '''10'''"
   ]
  },
  {
   "cell_type": "code",
   "execution_count": null,
   "metadata": {
    "hidden": true,
    "id": "-zp-qb4vIBBc",
    "outputId": "1607e09a-21e9-4a02-8ffc-79e8323098cf"
   },
   "outputs": [
    {
     "data": {
      "text/plain": [
       "\"(10, 'a1')\""
      ]
     },
     "execution_count": 4,
     "metadata": {},
     "output_type": "execute_result"
    }
   ],
   "source": [
    "str((10,'a1'))"
   ]
  },
  {
   "cell_type": "code",
   "execution_count": null,
   "metadata": {
    "hidden": true,
    "id": "RVxOgEHqIBBc",
    "outputId": "b018e039-4c36-4ade-ab4a-9537f760a94b"
   },
   "outputs": [
    {
     "data": {
      "text/plain": [
       "'3.1+23'"
      ]
     },
     "execution_count": 31,
     "metadata": {},
     "output_type": "execute_result"
    }
   ],
   "source": [
    "# Slicing\n",
    "\n",
    "str_ = '3.1+23j'\n",
    "str_[:-1]"
   ]
  },
  {
   "cell_type": "code",
   "execution_count": null,
   "metadata": {
    "hidden": true,
    "id": "C8PVUcurIBBc",
    "outputId": "437bc2a7-01d6-48a5-e466-0790319cfd7a"
   },
   "outputs": [
    {
     "data": {
      "text/plain": [
       "['3.1', '23']"
      ]
     },
     "execution_count": 32,
     "metadata": {},
     "output_type": "execute_result"
    }
   ],
   "source": [
    "str_.strip('j').split('+')"
   ]
  },
  {
   "cell_type": "code",
   "execution_count": null,
   "metadata": {
    "hidden": true,
    "id": "nLv2ga7SIBBc",
    "outputId": "cae2eac5-d015-43b8-b0ad-746d22a10c72"
   },
   "outputs": [
    {
     "data": {
      "text/plain": [
       "['3', '1', '2', '3']"
      ]
     },
     "execution_count": 33,
     "metadata": {},
     "output_type": "execute_result"
    }
   ],
   "source": [
    "[v for v in str_ if v.isnumeric()]"
   ]
  },
  {
   "cell_type": "markdown",
   "metadata": {
    "heading_collapsed": true,
    "hidden": true,
    "id": "uQikrj07IBBd"
   },
   "source": [
    "## Container (collection) data types"
   ]
  },
  {
   "cell_type": "markdown",
   "metadata": {
    "heading_collapsed": true,
    "hidden": true,
    "id": "yk3kpQmCIBBd"
   },
   "source": [
    "### List"
   ]
  },
  {
   "cell_type": "code",
   "execution_count": null,
   "metadata": {
    "hidden": true,
    "id": "RmT1U0Z8IBBd",
    "outputId": "e626c26e-f61a-449a-8767-1d0ffd0d96d2"
   },
   "outputs": [
    {
     "name": "stdout",
     "output_type": "stream",
     "text": [
      "<class 'list'>\n",
      "['a', 'a', 1, 1.0, (1+2j), True, False, [1, 2], (1, 2), {1, 2}, {0: 1, 'b': '2'}]\n"
     ]
    }
   ],
   "source": [
    "# Mutable object. Ordered collection. Allow duplicate entries. \n",
    "# Entries are of any data type: string, integer, float, complex, Boolean, list, tuple, set, dict.\n",
    "\n",
    "list_=['a', 'a', 1, 1.0, 1+2j, True, False, [1,2], (1,2), {1,2}, {0: 1, 'b': '2'}] \n",
    "    \n",
    "print(f'{type(list_)}\\n{list_}')"
   ]
  },
  {
   "cell_type": "code",
   "execution_count": null,
   "metadata": {
    "hidden": true,
    "id": "4JjT_-2SIBBd",
    "outputId": "03e52efb-dbed-43df-dfee-f574d2521322"
   },
   "outputs": [
    {
     "data": {
      "text/plain": [
       "11"
      ]
     },
     "execution_count": 155,
     "metadata": {},
     "output_type": "execute_result"
    }
   ],
   "source": [
    "len(list_)"
   ]
  },
  {
   "cell_type": "code",
   "execution_count": null,
   "metadata": {
    "hidden": true,
    "id": "6ntVm-eOIBBd",
    "outputId": "252cf831-24ea-4cbf-e664-71df7e4cdb49"
   },
   "outputs": [
    {
     "data": {
      "text/plain": [
       "True"
      ]
     },
     "execution_count": 21,
     "metadata": {},
     "output_type": "execute_result"
    }
   ],
   "source": [
    "list('1a')==['1','a']"
   ]
  },
  {
   "cell_type": "code",
   "execution_count": null,
   "metadata": {
    "hidden": true,
    "id": "c0i8JylVIBBe",
    "outputId": "f147b411-db9d-4949-8c4d-1972620a5b86"
   },
   "outputs": [
    {
     "data": {
      "text/plain": [
       "['first', 'last but one']"
      ]
     },
     "execution_count": 22,
     "metadata": {},
     "output_type": "execute_result"
    }
   ],
   "source": [
    "# Slicing\n",
    "\n",
    "list_=['first','last but one','last']\n",
    "list_[:-1]"
   ]
  },
  {
   "cell_type": "code",
   "execution_count": null,
   "metadata": {
    "hidden": true,
    "id": "2lfy5lKbIBBe",
    "outputId": "daf419e3-0027-4e50-9499-923cce583836"
   },
   "outputs": [
    {
     "data": {
      "text/plain": [
       "'last'"
      ]
     },
     "execution_count": 23,
     "metadata": {},
     "output_type": "execute_result"
    }
   ],
   "source": [
    "list_[-1]"
   ]
  },
  {
   "cell_type": "code",
   "execution_count": null,
   "metadata": {
    "hidden": true,
    "id": "2j4G6tmIIBBe",
    "outputId": "15327158-e9a7-43df-cc7e-3f2159ff9a69"
   },
   "outputs": [
    {
     "data": {
      "text/plain": [
       "'last but one'"
      ]
     },
     "execution_count": 24,
     "metadata": {},
     "output_type": "execute_result"
    }
   ],
   "source": [
    "list_[-2]"
   ]
  },
  {
   "cell_type": "markdown",
   "metadata": {
    "heading_collapsed": true,
    "hidden": true,
    "id": "yrYveoYpIBBe"
   },
   "source": [
    "### Tuple"
   ]
  },
  {
   "cell_type": "code",
   "execution_count": null,
   "metadata": {
    "hidden": true,
    "id": "I5T4-LufIBBe",
    "outputId": "ab14ca32-47f0-48ee-9827-86331d39c7ee"
   },
   "outputs": [
    {
     "name": "stdout",
     "output_type": "stream",
     "text": [
      "<class 'tuple'>\n",
      "('a', 'a', 1, 1.0, (1+2j), True, False, [1, 2], (1, 2), {1, 2}, {0: 1, 'b': '2'})\n"
     ]
    }
   ],
   "source": [
    "# Immutable object. Ordered collection. Allow duplicate entries. \n",
    "# Entries are of any data type: string, integer, float, complex, Boolean, list, tuple, set, dict.\n",
    "\n",
    "tuple_ = ('a', 'a', 1, 1.0, 1+2j, True, False, [1,2], (1,2), {1,2}, {0: 1, 'b': '2'}) \n",
    "\n",
    "print(f'{type(tuple_)}\\n{tuple_}')"
   ]
  },
  {
   "cell_type": "code",
   "execution_count": null,
   "metadata": {
    "hidden": true,
    "id": "1HbHbQwJIBBf",
    "outputId": "d1da7b52-ca8b-4ca2-da80-83b6f446cc49"
   },
   "outputs": [
    {
     "data": {
      "text/plain": [
       "11"
      ]
     },
     "execution_count": 36,
     "metadata": {},
     "output_type": "execute_result"
    }
   ],
   "source": [
    "len(tuple_)"
   ]
  },
  {
   "cell_type": "code",
   "execution_count": null,
   "metadata": {
    "hidden": true,
    "id": "Km1uSuOwIBBf",
    "outputId": "7c329436-fcaf-44e1-c494-737cbdcff9a6"
   },
   "outputs": [
    {
     "data": {
      "text/plain": [
       "('1', 'a')"
      ]
     },
     "execution_count": 37,
     "metadata": {},
     "output_type": "execute_result"
    }
   ],
   "source": [
    "tuple('1a')"
   ]
  },
  {
   "cell_type": "code",
   "execution_count": null,
   "metadata": {
    "hidden": true,
    "id": "s3O1CY3MIBBg",
    "outputId": "af65ea02-509f-4d07-bc21-56263a71bccb"
   },
   "outputs": [
    {
     "data": {
      "text/plain": [
       "True"
      ]
     },
     "execution_count": 38,
     "metadata": {},
     "output_type": "execute_result"
    }
   ],
   "source": [
    "tuple('ab') == ('a','b')"
   ]
  },
  {
   "cell_type": "code",
   "execution_count": null,
   "metadata": {
    "hidden": true,
    "id": "hxgq6e44IBBg",
    "outputId": "c3b4ab92-f3f3-4a9b-f65a-c7c08112bada"
   },
   "outputs": [
    {
     "data": {
      "text/plain": [
       "('a', 'a')"
      ]
     },
     "execution_count": 45,
     "metadata": {},
     "output_type": "execute_result"
    }
   ],
   "source": [
    "# Slicing \n",
    "\n",
    "tuple_[:2]"
   ]
  },
  {
   "cell_type": "code",
   "execution_count": null,
   "metadata": {
    "hidden": true,
    "id": "_ynrFNyZIBBg",
    "outputId": "c6b535d9-b1e3-4ac2-f2bc-453854fcfa56"
   },
   "outputs": [
    {
     "data": {
      "text/plain": [
       "{0: 1, 'b': '2'}"
      ]
     },
     "execution_count": 46,
     "metadata": {},
     "output_type": "execute_result"
    }
   ],
   "source": [
    "tuple_[-1] "
   ]
  },
  {
   "cell_type": "markdown",
   "metadata": {
    "heading_collapsed": true,
    "hidden": true,
    "id": "ZYZxMA4QIBBg"
   },
   "source": [
    "### Set"
   ]
  },
  {
   "cell_type": "code",
   "execution_count": null,
   "metadata": {
    "hidden": true,
    "id": "NKDZVc4pIBBh",
    "outputId": "dcf6ee5e-f6ed-42ec-c859-50a25b6395e9"
   },
   "outputs": [
    {
     "name": "stdout",
     "output_type": "stream",
     "text": [
      "<class 'set'>\n",
      "{'a', 1, False, (1, 2), (1+2j)}\n"
     ]
    }
   ],
   "source": [
    "# Mutable object. Unordered collection. No duplicate entries. \n",
    "# Entries are of immutable data type: string, integer, float, complex, Boolean, and tuple.\n",
    "\n",
    "set_ = {'a', 'a', 1, 1.0, 1+2j, True, False, (1,2)} \n",
    "\n",
    "print(f'{type(set_)}\\n{set_}')"
   ]
  },
  {
   "cell_type": "code",
   "execution_count": null,
   "metadata": {
    "hidden": true,
    "id": "4sdA6VqaIBBh",
    "outputId": "79b47472-435f-486d-bef7-d0a0a7eeb2b8"
   },
   "outputs": [
    {
     "data": {
      "text/plain": [
       "5"
      ]
     },
     "execution_count": 41,
     "metadata": {},
     "output_type": "execute_result"
    }
   ],
   "source": [
    "len(set_)"
   ]
  },
  {
   "cell_type": "code",
   "execution_count": null,
   "metadata": {
    "hidden": true,
    "id": "eOboo2JdIBBh",
    "outputId": "692275b2-ce9c-458b-a531-d61dcfc08f84"
   },
   "outputs": [
    {
     "data": {
      "text/plain": [
       "{'1', 'a'}"
      ]
     },
     "execution_count": 42,
     "metadata": {},
     "output_type": "execute_result"
    }
   ],
   "source": [
    "set('1a')"
   ]
  },
  {
   "cell_type": "code",
   "execution_count": null,
   "metadata": {
    "hidden": true,
    "id": "t1UPMYO8IBBh",
    "outputId": "e3fb569c-1bf6-473f-d38d-31257dc52230"
   },
   "outputs": [
    {
     "data": {
      "text/plain": [
       "True"
      ]
     },
     "execution_count": 43,
     "metadata": {},
     "output_type": "execute_result"
    }
   ],
   "source": [
    "set('ab')=={'a','b'}"
   ]
  },
  {
   "cell_type": "markdown",
   "metadata": {
    "heading_collapsed": true,
    "hidden": true,
    "id": "8Dxl1DkIBHpi"
   },
   "source": [
    "### Dictionary"
   ]
  },
  {
   "cell_type": "code",
   "execution_count": null,
   "metadata": {
    "hidden": true,
    "id": "2Fg2_x_7IBBi"
   },
   "outputs": [],
   "source": [
    "# Mutable object. Ordered collection (Python version >=3.7). No duplicate keys. \n",
    "# Keys are of immutable data type: string, integer, float, complex, Boolean, and tuple.\n",
    "# Values are of any data type."
   ]
  },
  {
   "cell_type": "code",
   "execution_count": null,
   "metadata": {
    "colab": {
     "base_uri": "https://localhost:8080/"
    },
    "executionInfo": {
     "elapsed": 526,
     "status": "ok",
     "timestamp": 1668163361555,
     "user": {
      "displayName": "Lucas Camponogara Viera",
      "userId": "14322290658374940800"
     },
     "user_tz": -480
    },
    "hidden": true,
    "id": "rZCQGKE6BHpj",
    "outputId": "3a479ab8-ad56-43a9-af2f-e27a0fa592d5"
   },
   "outputs": [
    {
     "name": "stdout",
     "output_type": "stream",
     "text": [
      "<class 'dict'>\n",
      "{'1': '1', 2: 2, 3.0: 3.0, (1+1j): 1j, True: False, (0, 0): {1, 2}}\n"
     ]
    }
   ],
   "source": [
    "dict_ = {'1':'1', 2:2, 3.0:3.0, 1+1j:1j, True:False, (0,0):{1,2}} \n",
    "\n",
    "print(f'{type(dict_)}\\n{dict_}')"
   ]
  },
  {
   "cell_type": "code",
   "execution_count": null,
   "metadata": {
    "hidden": true,
    "id": "aK-GaG_hIBBi",
    "outputId": "9549858a-43d0-45eb-e0d6-5d15b6e30531"
   },
   "outputs": [
    {
     "data": {
      "text/plain": [
       "{'a': 1, 'b': 2, 'c': 3}"
      ]
     },
     "execution_count": 100,
     "metadata": {},
     "output_type": "execute_result"
    }
   ],
   "source": [
    "# Creating a dictionary using python built-in:\n",
    "\n",
    "dict(a=1, b=2, c=3)"
   ]
  },
  {
   "cell_type": "code",
   "execution_count": null,
   "metadata": {
    "hidden": true,
    "id": "W6Rg7dDRIBBi",
    "outputId": "0ff27652-a97f-49c7-9f33-e890d1a5ee3e"
   },
   "outputs": [
    {
     "name": "stdout",
     "output_type": "stream",
     "text": [
      "{'a': 1, 'b': 2, 'c': 3, 'd': 4, 'e': 5, 'f': 6, 'g': 7, 'h': 8, 'i': 9, 'j': 10, 'k': 11, 'l': 12, 'm': 13, 'n': 14, 'o': 15, 'p': 16, 'q': 17, 'r': 18, 's': 19, 't': 20, 'u': 21, 'v': 22, 'w': 23, 'x': 24, 'y': 25, 'z': 26}\n"
     ]
    }
   ],
   "source": [
    "# Creating a dictionary from a string of keys using for loops:\n",
    "\n",
    "str_ = 'abcdefghijklmnopqrstuvwxyz'\n",
    "\n",
    "i=1\n",
    "d={}\n",
    "for key in str_:\n",
    "  d[key]=i\n",
    "  i+=1\n",
    "    \n",
    "print(d)"
   ]
  },
  {
   "cell_type": "code",
   "execution_count": null,
   "metadata": {
    "hidden": true,
    "id": "aUdidLsHIBBi",
    "outputId": "94d1768b-845a-4d2d-ce4f-f66b17685da4"
   },
   "outputs": [
    {
     "name": "stdout",
     "output_type": "stream",
     "text": [
      "{'a': 1, 'b': 2, 'c': 3, 'd': 4, 'e': 5, 'f': 6, 'g': 7, 'h': 8, 'i': 9, 'j': 10, 'k': 11, 'l': 12, 'm': 13, 'n': 14, 'o': 15, 'p': 16, 'q': 17, 'r': 18, 's': 19, 't': 20, 'u': 21, 'v': 22, 'w': 23, 'x': 24, 'y': 25, 'z': 26}\n"
     ]
    }
   ],
   "source": [
    "# Creating a dictionary from a string of keys using list comprehension and enumerate:\n",
    "\n",
    "d=dict([(key,i) for i, key in enumerate(list(str_), 1)])\n",
    "print(d)"
   ]
  },
  {
   "cell_type": "code",
   "execution_count": null,
   "metadata": {
    "hidden": true,
    "id": "Sfaj9JMaIBBj",
    "outputId": "99c73904-6d93-4af0-b297-eb1196d9e29f"
   },
   "outputs": [
    {
     "data": {
      "text/plain": [
       "{'a': 1, 'b': 2}"
      ]
     },
     "execution_count": 103,
     "metadata": {},
     "output_type": "execute_result"
    }
   ],
   "source": [
    "# Creating a dictionary from a list of keys and values using for loops:\n",
    "\n",
    "def create_dict(keys:list, values:list) -> dict:\n",
    "    dict={}\n",
    "    i=0\n",
    "    if keys:\n",
    "        for key in keys:\n",
    "            dict[key]=values[i]\n",
    "            i+=1\n",
    "        return dict\n",
    "    else:\n",
    "        raise Exception ('Missing arguments')\n",
    "\n",
    "create_dict(['a', 'b'], [1,2])"
   ]
  },
  {
   "cell_type": "code",
   "execution_count": null,
   "metadata": {
    "hidden": true,
    "id": "bG2jpFcmIBBj",
    "outputId": "dbd4d05f-5462-4dff-8aff-f5663e0433cb"
   },
   "outputs": [
    {
     "data": {
      "text/plain": [
       "{'a': 1, 'b': 2}"
      ]
     },
     "execution_count": 104,
     "metadata": {},
     "output_type": "execute_result"
    }
   ],
   "source": [
    "# Creating a dictionary from a list of keys and values using zip:\n",
    "\n",
    "keys, values = ['a', 'b'], [1, 2]\n",
    "dict(zip(keys, values))"
   ]
  },
  {
   "cell_type": "code",
   "execution_count": null,
   "metadata": {
    "hidden": true,
    "id": "LqBkgAIeIBBk",
    "outputId": "ee93258e-3885-47bc-e5f3-6b8666d955a7"
   },
   "outputs": [
    {
     "data": {
      "text/plain": [
       "{'a': 1, 'b': 2, 'c': 3}"
      ]
     },
     "execution_count": 105,
     "metadata": {},
     "output_type": "execute_result"
    }
   ],
   "source": [
    "# Creating a dict. from a list of tuples:\n",
    "\n",
    "d=[('a',1), ('b',2), ('c',3)]\n",
    "d={key:value for key, value in d}\n",
    "d"
   ]
  },
  {
   "cell_type": "code",
   "execution_count": null,
   "metadata": {
    "colab": {
     "base_uri": "https://localhost:8080/"
    },
    "executionInfo": {
     "elapsed": 9,
     "status": "ok",
     "timestamp": 1668163362069,
     "user": {
      "displayName": "Lucas Camponogara Viera",
      "userId": "14322290658374940800"
     },
     "user_tz": -480
    },
    "hidden": true,
    "id": "GmNvw7mhKw3J",
    "outputId": "6260505e-3282-40e9-9120-3883d1972e9f"
   },
   "outputs": [
    {
     "name": "stdout",
     "output_type": "stream",
     "text": [
      "\n",
      "dict_items([('a', 1), ('b', 2), ('c', 3)])\n",
      "\n",
      "dict_values([1, 2, 3]) \n",
      "\n",
      "dict_keys(['a', 'b', 'c']) \n",
      "\n",
      "'1' in d >>> False\n",
      "\n"
     ]
    }
   ],
   "source": [
    "# Returning items:\n",
    "print(f'\\n{d.items()}\\n') # Show a list containing tuples of (key,value) pairs.\n",
    "\n",
    "# Returning values:\n",
    "print(d.values(), '\\n')\n",
    "\n",
    "# Returning keys:\n",
    "print(d.keys(), '\\n')\n",
    "\n",
    "# Checking for keys:\n",
    "print(f'\\'1\\' in d >>> {str(1) in d}\\n')"
   ]
  },
  {
   "cell_type": "code",
   "execution_count": null,
   "metadata": {
    "hidden": true,
    "id": "qAphMuk_IBBk",
    "outputId": "c578e71d-3656-4e7b-b25b-cf325dd762c1",
    "scrolled": true
   },
   "outputs": [
    {
     "name": "stdout",
     "output_type": "stream",
     "text": [
      "1\n",
      "1\n",
      "c\n",
      "c\n"
     ]
    }
   ],
   "source": [
    "# Show value for key 'a':\n",
    "print(d['a']) \n",
    "\n",
    "# Show value for key 'a' with get() method:\n",
    "print(d.get('a'))\n",
    "\n",
    "# Show key for value '3':\n",
    "print([i for i in d if d[i]==3][0])\n",
    "\n",
    "# Show key for value '3':\n",
    "keys = list(d.keys())\n",
    "values = list(d.values())\n",
    "pos = values.index(3)\n",
    "print(keys[pos])"
   ]
  },
  {
   "cell_type": "code",
   "execution_count": null,
   "metadata": {
    "hidden": true,
    "id": "aXxJyy2KIBBl",
    "outputId": "928cc1f4-c226-4cc0-904f-bf5a4dc38abf"
   },
   "outputs": [
    {
     "data": {
      "text/plain": [
       "'b'"
      ]
     },
     "execution_count": 108,
     "metadata": {},
     "output_type": "execute_result"
    }
   ],
   "source": [
    "# Below is an example using function anotation:\n",
    "\n",
    "import typing\n",
    "\n",
    "def show_key(d:dict, val:typing.Any) -> (str, int, float, tuple, bool):\n",
    "    '''\n",
    "    A function to show the corresponding key for a given value of a dictionary.\n",
    "   \n",
    "    Args:\n",
    "        d(dict): a dictionary.\n",
    "        val(str, float, int): the value of the key.\n",
    "  \n",
    "    Return: the entry of the corresponding key.\n",
    "    '''\n",
    "    keys = [k for k, v in d.items() if v == val]\n",
    "    if keys:\n",
    "        return keys[0]\n",
    "    else:\n",
    "        raise Exception('Missing value.')\n",
    "        return None\n",
    "\n",
    "show_key(d, 2)"
   ]
  },
  {
   "cell_type": "code",
   "execution_count": null,
   "metadata": {
    "hidden": true,
    "id": "2aaDMgUeIBBl"
   },
   "outputs": [],
   "source": [
    "# Throws the exception because the second key overwrites the first one since duplicate keys are lot allowed.\n",
    "#get_key({'key1':1, 'key1': 0}, 1) "
   ]
  },
  {
   "cell_type": "code",
   "execution_count": null,
   "metadata": {
    "colab": {
     "base_uri": "https://localhost:8080/"
    },
    "executionInfo": {
     "elapsed": 7,
     "status": "ok",
     "timestamp": 1668163362069,
     "user": {
      "displayName": "Lucas Camponogara Viera",
      "userId": "14322290658374940800"
     },
     "user_tz": -480
    },
    "hidden": true,
    "id": "2vHobK6kQJoE",
    "outputId": "b209a856-7e89-4a0e-f902-d699a9d28a83"
   },
   "outputs": [
    {
     "name": "stdout",
     "output_type": "stream",
     "text": [
      "a\n",
      "b\n",
      "c\n"
     ]
    }
   ],
   "source": [
    "# Iterating through keys: \n",
    "for key in d:\n",
    "  print(key)"
   ]
  },
  {
   "cell_type": "code",
   "execution_count": null,
   "metadata": {
    "hidden": true,
    "id": "YJuv8jfAIBBl",
    "outputId": "be9b9a9f-e1cb-4427-e1b3-44f4f28e8a75"
   },
   "outputs": [
    {
     "name": "stdout",
     "output_type": "stream",
     "text": [
      "a\n",
      "b\n",
      "c\n"
     ]
    }
   ],
   "source": [
    "# Iterating through keys with the keys() method: \n",
    "for key in d.keys():\n",
    "  print(key)"
   ]
  },
  {
   "cell_type": "code",
   "execution_count": null,
   "metadata": {
    "colab": {
     "base_uri": "https://localhost:8080/"
    },
    "executionInfo": {
     "elapsed": 6,
     "status": "ok",
     "timestamp": 1668163362069,
     "user": {
      "displayName": "Lucas Camponogara Viera",
      "userId": "14322290658374940800"
     },
     "user_tz": -480
    },
    "hidden": true,
    "id": "6PRnp9BmQVmz",
    "outputId": "343e27a8-dd1a-4682-a16b-a75b9e782afa"
   },
   "outputs": [
    {
     "name": "stdout",
     "output_type": "stream",
     "text": [
      "1\n",
      "2\n",
      "3\n"
     ]
    }
   ],
   "source": [
    "# Iterating through values: \n",
    "for key in d:\n",
    "  print(d[key])"
   ]
  },
  {
   "cell_type": "code",
   "execution_count": null,
   "metadata": {
    "hidden": true,
    "id": "1cTXqVM6IBBm",
    "outputId": "6545a8b9-cde2-43a8-9526-20d0a6dd73c0"
   },
   "outputs": [
    {
     "name": "stdout",
     "output_type": "stream",
     "text": [
      "1\n",
      "2\n",
      "3\n"
     ]
    }
   ],
   "source": [
    "# Iterating through values with values() method: \n",
    "for value in d.values():\n",
    "  print(value)"
   ]
  },
  {
   "cell_type": "code",
   "execution_count": null,
   "metadata": {
    "colab": {
     "base_uri": "https://localhost:8080/"
    },
    "executionInfo": {
     "elapsed": 5,
     "status": "ok",
     "timestamp": 1668163362069,
     "user": {
      "displayName": "Lucas Camponogara Viera",
      "userId": "14322290658374940800"
     },
     "user_tz": -480
    },
    "hidden": true,
    "id": "usUZ2-nJJsHM",
    "outputId": "79188098-f17b-4374-85fb-bc6a85711a27"
   },
   "outputs": [
    {
     "name": "stdout",
     "output_type": "stream",
     "text": [
      "a 1\n",
      "b 2\n",
      "c 3\n"
     ]
    }
   ],
   "source": [
    "# Iterating through key, value pairs: \n",
    "for key, value in d.items():\n",
    "  print(key, value)"
   ]
  },
  {
   "cell_type": "code",
   "execution_count": null,
   "metadata": {
    "hidden": true,
    "id": "hyWhfCgiIBBm",
    "outputId": "18b1fc21-76fb-46dc-e472-ec2b9a27867e"
   },
   "outputs": [
    {
     "data": {
      "text/plain": [
       "Exception"
      ]
     },
     "execution_count": 115,
     "metadata": {},
     "output_type": "execute_result"
    }
   ],
   "source": [
    "# dictionary.pop(keyname, defaultvalue):\n",
    "\n",
    "d.pop(\"d\", Exception)"
   ]
  },
  {
   "cell_type": "code",
   "execution_count": null,
   "metadata": {
    "colab": {
     "base_uri": "https://localhost:8080/"
    },
    "executionInfo": {
     "elapsed": 4,
     "status": "ok",
     "timestamp": 1668163362070,
     "user": {
      "displayName": "Lucas Camponogara Viera",
      "userId": "14322290658374940800"
     },
     "user_tz": -480
    },
    "hidden": true,
    "id": "oxM8XVFgQ4Ct",
    "outputId": "26d0b437-5f1c-4772-f453-4499f2f013a1",
    "scrolled": false
   },
   "outputs": [
    {
     "name": "stdout",
     "output_type": "stream",
     "text": [
      "Appending to d -> {'a': 1, 'b': 2, 'c': 3, 'new': 0}\n",
      "Changing d -> {'a': 1, 'b': 2, 'c': 3, 'new': '01'}\n",
      "Updating d -> {'a': 1, 'b': 2, 'c': 3, 'new': 10}\n",
      "Removing 'new' key from d -> {'a': 1, 'b': 2, 'c': 3}\n",
      "Removing 'c' key from d with del keyword: {'a': 1, 'b': 2}\n",
      "Removing last from d -> {'a': 1}\n",
      "Emptying the dictionary -> {}\n"
     ]
    }
   ],
   "source": [
    "d = {'a': 1, 'b': 2, 'c': 3}\n",
    "\n",
    "# Appending a new key:value pair:\n",
    "d['new'] = 0\n",
    "print(f'Appending to d -> {d}')\n",
    "\n",
    "# Changing an existing key:value pair:\n",
    "d['new'] = '01'\n",
    "print(f'Changing d -> {d}')\n",
    "\n",
    "# Changing an existing key:value pair with update method:\n",
    "d.update({'new': 10})\n",
    "print(f'Updating d -> {d}')\n",
    "\n",
    "# Removing an item:\n",
    "d.pop('new')\n",
    "print(f'Removing \\'new\\' key from d -> {d}')\n",
    "del d['c']\n",
    "print(f'Removing \\'c\\' key from d with del keyword: {d}')\n",
    "\n",
    "# Removing the last item:\n",
    "d.popitem()\n",
    "print(f'Removing last from d -> {d}')\n",
    "\n",
    "# Emptying the dictionary:\n",
    "d.clear()\n",
    "print(f'Emptying the dictionary -> {d}')"
   ]
  },
  {
   "cell_type": "code",
   "execution_count": null,
   "metadata": {
    "hidden": true,
    "id": "BQrYRj8TIBBn",
    "outputId": "936fd51f-20e3-4741-e5ff-cac1b6ecde72"
   },
   "outputs": [
    {
     "data": {
      "text/plain": [
       "{'a': 1, 'b': 3, 'c': 5, 'd': 6}"
      ]
     },
     "execution_count": 120,
     "metadata": {},
     "output_type": "execute_result"
    }
   ],
   "source": [
    "# Concatenation:\n",
    "\n",
    "x = {'a': 1, 'b': 2}\n",
    "y = {'b': 3, 'c': 4}\n",
    "z = {'c': 5, 'd': 6}\n",
    "w = {**x, **y, **z}\n",
    "w"
   ]
  },
  {
   "cell_type": "markdown",
   "metadata": {
    "heading_collapsed": true,
    "hidden": true,
    "id": "E5JCALF2JCD-"
   },
   "source": [
    "## Conversions"
   ]
  },
  {
   "cell_type": "markdown",
   "metadata": {
    "heading_collapsed": true,
    "hidden": true,
    "id": "o51avg2VGfdt"
   },
   "source": [
    "### Converting a list to tuple and str"
   ]
  },
  {
   "cell_type": "code",
   "execution_count": null,
   "metadata": {
    "hidden": true,
    "id": "kykat8jx2LWX"
   },
   "outputs": [],
   "source": [
    "list_=[1,2,3,4]"
   ]
  },
  {
   "cell_type": "code",
   "execution_count": null,
   "metadata": {
    "colab": {
     "base_uri": "https://localhost:8080/"
    },
    "executionInfo": {
     "elapsed": 283,
     "status": "ok",
     "timestamp": 1675541035494,
     "user": {
      "displayName": "Lucas Camponogara Viera",
      "userId": "14322290658374940800"
     },
     "user_tz": -480
    },
    "hidden": true,
    "id": "sS-Uz7nw5ku_",
    "outputId": "6cdf3a14-2b2a-42c8-8dcc-7ee2cb7ac053"
   },
   "outputs": [
    {
     "data": {
      "text/plain": [
       "['1', '2', '3', '4']"
      ]
     },
     "execution_count": 132,
     "metadata": {},
     "output_type": "execute_result"
    }
   ],
   "source": [
    "[str(item) for item in list_]"
   ]
  },
  {
   "cell_type": "markdown",
   "metadata": {
    "hidden": true
   },
   "source": [
    "- To tuple:"
   ]
  },
  {
   "cell_type": "code",
   "execution_count": null,
   "metadata": {
    "colab": {
     "base_uri": "https://localhost:8080/"
    },
    "executionInfo": {
     "elapsed": 415,
     "status": "ok",
     "timestamp": 1675541037402,
     "user": {
      "displayName": "Lucas Camponogara Viera",
      "userId": "14322290658374940800"
     },
     "user_tz": -480
    },
    "hidden": true,
    "id": "0hROc5PV6Gdz",
    "outputId": "ac138e18-a1ac-4bf8-dace-bf10fd163e98"
   },
   "outputs": [
    {
     "data": {
      "text/plain": [
       "(1, 2, 3, 4)"
      ]
     },
     "execution_count": 133,
     "metadata": {},
     "output_type": "execute_result"
    }
   ],
   "source": [
    "tuple(list_)"
   ]
  },
  {
   "cell_type": "code",
   "execution_count": null,
   "metadata": {
    "colab": {
     "base_uri": "https://localhost:8080/"
    },
    "executionInfo": {
     "elapsed": 255,
     "status": "ok",
     "timestamp": 1675541648175,
     "user": {
      "displayName": "Lucas Camponogara Viera",
      "userId": "14322290658374940800"
     },
     "user_tz": -480
    },
    "hidden": true,
    "id": "nJBZ4i92Af_c",
    "outputId": "c72d58bc-72c9-450c-fad8-d5894dc26f56"
   },
   "outputs": [
    {
     "data": {
      "text/plain": [
       "('1', '2', '3', '4')"
      ]
     },
     "execution_count": 171,
     "metadata": {},
     "output_type": "execute_result"
    }
   ],
   "source": [
    "tuple(str(i) for i in list_)"
   ]
  },
  {
   "cell_type": "markdown",
   "metadata": {
    "hidden": true
   },
   "source": [
    "- To string:"
   ]
  },
  {
   "cell_type": "code",
   "execution_count": null,
   "metadata": {
    "colab": {
     "base_uri": "https://localhost:8080/",
     "height": 38
    },
    "executionInfo": {
     "elapsed": 407,
     "status": "ok",
     "timestamp": 1675542700616,
     "user": {
      "displayName": "Lucas Camponogara Viera",
      "userId": "14322290658374940800"
     },
     "user_tz": -480
    },
    "hidden": true,
    "id": "Q0bGKRnx7_WF",
    "outputId": "efaa3b4b-9ce0-46ad-da11-5557f8d11ed2"
   },
   "outputs": [
    {
     "data": {
      "application/vnd.google.colaboratory.intrinsic+json": {
       "type": "string"
      },
      "text/plain": [
       "'1234'"
      ]
     },
     "execution_count": 200,
     "metadata": {},
     "output_type": "execute_result"
    }
   ],
   "source": [
    "# Using for loop and concatenation:\n",
    "\n",
    "str_=''\n",
    "for item in [str(i) for i in list_]:\n",
    "  str_+=item\n",
    "\n",
    "str_"
   ]
  },
  {
   "cell_type": "code",
   "execution_count": null,
   "metadata": {
    "colab": {
     "base_uri": "https://localhost:8080/",
     "height": 38
    },
    "executionInfo": {
     "elapsed": 279,
     "status": "ok",
     "timestamp": 1675542696461,
     "user": {
      "displayName": "Lucas Camponogara Viera",
      "userId": "14322290658374940800"
     },
     "user_tz": -480
    },
    "hidden": true,
    "id": "Ee81XdiC5qG5",
    "outputId": "fc0eaa1a-c2bb-4878-a138-9ed37b12e7f3"
   },
   "outputs": [
    {
     "data": {
      "application/vnd.google.colaboratory.intrinsic+json": {
       "type": "string"
      },
      "text/plain": [
       "'1234'"
      ]
     },
     "execution_count": 198,
     "metadata": {},
     "output_type": "execute_result"
    }
   ],
   "source": [
    "# Using list comprehension and str.join() method:\n",
    "\n",
    "temp=[str(i) for i in list_]\n",
    "''.join(temp)"
   ]
  },
  {
   "cell_type": "code",
   "execution_count": null,
   "metadata": {
    "colab": {
     "base_uri": "https://localhost:8080/",
     "height": 38
    },
    "executionInfo": {
     "elapsed": 325,
     "status": "ok",
     "timestamp": 1675542706608,
     "user": {
      "displayName": "Lucas Camponogara Viera",
      "userId": "14322290658374940800"
     },
     "user_tz": -480
    },
    "hidden": true,
    "id": "Kj-2B3zRHv65",
    "outputId": "254ee4fb-69e0-4195-aaf5-4d48d84f24ef"
   },
   "outputs": [
    {
     "data": {
      "application/vnd.google.colaboratory.intrinsic+json": {
       "type": "string"
      },
      "text/plain": [
       "'1234'"
      ]
     },
     "execution_count": 203,
     "metadata": {},
     "output_type": "execute_result"
    }
   ],
   "source": [
    "# Using str.join() and map:\n",
    "\n",
    "''.join(map(str, temp))"
   ]
  },
  {
   "cell_type": "code",
   "execution_count": null,
   "metadata": {
    "colab": {
     "base_uri": "https://localhost:8080/",
     "height": 38
    },
    "executionInfo": {
     "elapsed": 267,
     "status": "ok",
     "timestamp": 1675542703908,
     "user": {
      "displayName": "Lucas Camponogara Viera",
      "userId": "14322290658374940800"
     },
     "user_tz": -480
    },
    "hidden": true,
    "id": "KdB_lsPfE2bq",
    "outputId": "92389508-f4f8-4256-d080-d29df31881fd"
   },
   "outputs": [
    {
     "data": {
      "application/vnd.google.colaboratory.intrinsic+json": {
       "type": "string"
      },
      "text/plain": [
       "'1234'"
      ]
     },
     "execution_count": 202,
     "metadata": {},
     "output_type": "execute_result"
    }
   ],
   "source": [
    "# Using reduce() function:\n",
    "\n",
    "import functools\n",
    "import operator\n",
    "\n",
    "functools.reduce(operator.add, ([str(i) for i in list_]))"
   ]
  },
  {
   "cell_type": "markdown",
   "metadata": {
    "heading_collapsed": true,
    "hidden": true,
    "id": "DwiCEmKnGSMC"
   },
   "source": [
    "### Converting a tuple to list and str"
   ]
  },
  {
   "cell_type": "code",
   "execution_count": null,
   "metadata": {
    "hidden": true,
    "id": "zY2T-tlZ0LiN"
   },
   "outputs": [],
   "source": [
    "tuple_=(1,2,3,4)"
   ]
  },
  {
   "cell_type": "code",
   "execution_count": null,
   "metadata": {
    "colab": {
     "base_uri": "https://localhost:8080/"
    },
    "executionInfo": {
     "elapsed": 350,
     "status": "ok",
     "timestamp": 1675541653020,
     "user": {
      "displayName": "Lucas Camponogara Viera",
      "userId": "14322290658374940800"
     },
     "user_tz": -480
    },
    "hidden": true,
    "id": "CduKfy2PCMs_",
    "outputId": "e987b722-ff0d-4098-d2e9-4d0d5e8ad4b4"
   },
   "outputs": [
    {
     "data": {
      "text/plain": [
       "('1', '2', '3', '4')"
      ]
     },
     "execution_count": 173,
     "metadata": {},
     "output_type": "execute_result"
    }
   ],
   "source": [
    "tuple(str(i) for i in tuple_)"
   ]
  },
  {
   "cell_type": "markdown",
   "metadata": {
    "hidden": true
   },
   "source": [
    "- To list:"
   ]
  },
  {
   "cell_type": "code",
   "execution_count": null,
   "metadata": {
    "colab": {
     "base_uri": "https://localhost:8080/"
    },
    "executionInfo": {
     "elapsed": 315,
     "status": "ok",
     "timestamp": 1675541316458,
     "user": {
      "displayName": "Lucas Camponogara Viera",
      "userId": "14322290658374940800"
     },
     "user_tz": -480
    },
    "hidden": true,
    "id": "-ITdEAUJ-I-d",
    "outputId": "36cd8b21-453a-4091-9c55-11569e4883f3"
   },
   "outputs": [
    {
     "data": {
      "text/plain": [
       "[1, 2, 3, 4]"
      ]
     },
     "execution_count": 145,
     "metadata": {},
     "output_type": "execute_result"
    }
   ],
   "source": [
    "list(tuple_)"
   ]
  },
  {
   "cell_type": "code",
   "execution_count": null,
   "metadata": {
    "colab": {
     "base_uri": "https://localhost:8080/"
    },
    "executionInfo": {
     "elapsed": 319,
     "status": "ok",
     "timestamp": 1675541367366,
     "user": {
      "displayName": "Lucas Camponogara Viera",
      "userId": "14322290658374940800"
     },
     "user_tz": -480
    },
    "hidden": true,
    "id": "Eak_UAixC3qL",
    "outputId": "a015f97b-a0fb-4b24-f2be-c8186962c924"
   },
   "outputs": [
    {
     "data": {
      "text/plain": [
       "['1', '2', '3', '4']"
      ]
     },
     "execution_count": 152,
     "metadata": {},
     "output_type": "execute_result"
    }
   ],
   "source": [
    "[str(i) for i in tuple_]"
   ]
  },
  {
   "cell_type": "markdown",
   "metadata": {
    "colab": {
     "base_uri": "https://localhost:8080/",
     "height": 38
    },
    "executionInfo": {
     "elapsed": 388,
     "status": "ok",
     "timestamp": 1675541377181,
     "user": {
      "displayName": "Lucas Camponogara Viera",
      "userId": "14322290658374940800"
     },
     "user_tz": -480
    },
    "hidden": true,
    "id": "fR4ZmUVD0m9W",
    "outputId": "9ce532c7-0ace-4a90-b2a3-edc821ef25ee"
   },
   "source": [
    "- To string:"
   ]
  },
  {
   "cell_type": "code",
   "execution_count": null,
   "metadata": {
    "colab": {
     "base_uri": "https://localhost:8080/",
     "height": 38
    },
    "executionInfo": {
     "elapsed": 297,
     "status": "ok",
     "timestamp": 1675541455786,
     "user": {
      "displayName": "Lucas Camponogara Viera",
      "userId": "14322290658374940800"
     },
     "user_tz": -480
    },
    "hidden": true,
    "id": "cTjy8oK3-2sm",
    "outputId": "cd981680-a41b-41c9-e818-0d98eb0bbd4a"
   },
   "outputs": [
    {
     "data": {
      "application/vnd.google.colaboratory.intrinsic+json": {
       "type": "string"
      },
      "text/plain": [
       "'1234'"
      ]
     },
     "execution_count": 158,
     "metadata": {},
     "output_type": "execute_result"
    }
   ],
   "source": [
    "# Using for loop and concatenation:\n",
    "\n",
    "str_=''\n",
    "for i in (str(j) for j in tuple_):\n",
    "  str_+=i\n",
    "\n",
    "str_"
   ]
  },
  {
   "cell_type": "code",
   "execution_count": null,
   "metadata": {
    "colab": {
     "base_uri": "https://localhost:8080/",
     "height": 38
    },
    "executionInfo": {
     "elapsed": 431,
     "status": "ok",
     "timestamp": 1675541453899,
     "user": {
      "displayName": "Lucas Camponogara Viera",
      "userId": "14322290658374940800"
     },
     "user_tz": -480
    },
    "hidden": true,
    "id": "Vj771Z-F0vJr",
    "outputId": "d06b8958-b5f8-4d74-a600-8069951bcb59"
   },
   "outputs": [
    {
     "data": {
      "application/vnd.google.colaboratory.intrinsic+json": {
       "type": "string"
      },
      "text/plain": [
       "'1234'"
      ]
     },
     "execution_count": 157,
     "metadata": {},
     "output_type": "execute_result"
    }
   ],
   "source": [
    "# Using str.join() method:\n",
    "\n",
    "temp=(str(i) for i in tuple_)\n",
    "''.join(temp)"
   ]
  },
  {
   "cell_type": "markdown",
   "metadata": {
    "heading_collapsed": true,
    "hidden": true,
    "id": "nNOdtOd7GLuS"
   },
   "source": [
    "### Converting a str to list and tuple"
   ]
  },
  {
   "cell_type": "code",
   "execution_count": null,
   "metadata": {
    "hidden": true,
    "id": "TNNDcoi7ASy2"
   },
   "outputs": [],
   "source": [
    "str_='1234'"
   ]
  },
  {
   "cell_type": "markdown",
   "metadata": {
    "hidden": true
   },
   "source": [
    "- To list:"
   ]
  },
  {
   "cell_type": "code",
   "execution_count": null,
   "metadata": {
    "colab": {
     "base_uri": "https://localhost:8080/"
    },
    "executionInfo": {
     "elapsed": 290,
     "status": "ok",
     "timestamp": 1675541702285,
     "user": {
      "displayName": "Lucas Camponogara Viera",
      "userId": "14322290658374940800"
     },
     "user_tz": -480
    },
    "hidden": true,
    "id": "H-YbW7H-AXog",
    "outputId": "f0871c37-d19e-4bb8-c9fc-850dd912358a"
   },
   "outputs": [
    {
     "data": {
      "text/plain": [
       "['1', '2', '3', '4']"
      ]
     },
     "execution_count": 181,
     "metadata": {},
     "output_type": "execute_result"
    }
   ],
   "source": [
    "list(str_)"
   ]
  },
  {
   "cell_type": "code",
   "execution_count": null,
   "metadata": {
    "colab": {
     "base_uri": "https://localhost:8080/"
    },
    "executionInfo": {
     "elapsed": 617,
     "status": "ok",
     "timestamp": 1675541705001,
     "user": {
      "displayName": "Lucas Camponogara Viera",
      "userId": "14322290658374940800"
     },
     "user_tz": -480
    },
    "hidden": true,
    "id": "6RcvA30ZDjVH",
    "outputId": "488e60db-ad08-4b0f-81f7-bef5eee27280"
   },
   "outputs": [
    {
     "data": {
      "text/plain": [
       "[1, 2, 3, 4]"
      ]
     },
     "execution_count": 182,
     "metadata": {},
     "output_type": "execute_result"
    }
   ],
   "source": [
    "[int(i) for i in str_]"
   ]
  },
  {
   "cell_type": "markdown",
   "metadata": {
    "hidden": true
   },
   "source": [
    "- To tuple:"
   ]
  },
  {
   "cell_type": "code",
   "execution_count": null,
   "metadata": {
    "colab": {
     "base_uri": "https://localhost:8080/"
    },
    "executionInfo": {
     "elapsed": 336,
     "status": "ok",
     "timestamp": 1675541707095,
     "user": {
      "displayName": "Lucas Camponogara Viera",
      "userId": "14322290658374940800"
     },
     "user_tz": -480
    },
    "hidden": true,
    "id": "X4DiImLADvOw",
    "outputId": "89e2e822-4016-40ae-8e55-3a30c3c8f609"
   },
   "outputs": [
    {
     "data": {
      "text/plain": [
       "('1', '2', '3', '4')"
      ]
     },
     "execution_count": 183,
     "metadata": {},
     "output_type": "execute_result"
    }
   ],
   "source": [
    "tuple(str_)"
   ]
  },
  {
   "cell_type": "code",
   "execution_count": null,
   "metadata": {
    "colab": {
     "base_uri": "https://localhost:8080/"
    },
    "executionInfo": {
     "elapsed": 302,
     "status": "ok",
     "timestamp": 1675541709164,
     "user": {
      "displayName": "Lucas Camponogara Viera",
      "userId": "14322290658374940800"
     },
     "user_tz": -480
    },
    "hidden": true,
    "id": "OueyySymDypu",
    "outputId": "0f96f583-20f9-4ab4-a999-d1011f9490c0"
   },
   "outputs": [
    {
     "data": {
      "text/plain": [
       "(1, 2, 3, 4)"
      ]
     },
     "execution_count": 184,
     "metadata": {},
     "output_type": "execute_result"
    }
   ],
   "source": [
    "tuple(int(i) for i in str_)"
   ]
  },
  {
   "cell_type": "markdown",
   "metadata": {
    "heading_collapsed": true,
    "id": "xURfLRz4BHpm"
   },
   "source": [
    "# NumPy: `histogram`\n",
    "\n",
    "- Plot of Frequency vs Normal Distribution.\n",
    "- Plot of Probability Density vs Normal Distribution."
   ]
  },
  {
   "cell_type": "markdown",
   "metadata": {
    "heading_collapsed": true,
    "hidden": true,
    "id": "SVgRLztEIBBn"
   },
   "source": [
    "## Plot of the Frequency of Occurrence for a Normal Distribution"
   ]
  },
  {
   "cell_type": "markdown",
   "metadata": {
    "hidden": true,
    "id": "46l_-cBbIBBn"
   },
   "source": [
    "- Histogram: is a set $\\{N_j\\}_{j=1}^d$ of values where each value ($N_j$) is the frequency of occurrence of an event, i.e, the number of times the event happened."
   ]
  },
  {
   "cell_type": "code",
   "execution_count": null,
   "metadata": {
    "colab": {
     "base_uri": "https://localhost:8080/",
     "height": 280
    },
    "executionInfo": {
     "elapsed": 547,
     "status": "ok",
     "timestamp": 1668163123702,
     "user": {
      "displayName": "Lucas Camponogara Viera",
      "userId": "14322290658374940800"
     },
     "user_tz": -480
    },
    "hidden": true,
    "id": "PTiXyPH4BHpn",
    "outputId": "d67b5858-436d-44a1-883d-d8ce0202be5e"
   },
   "outputs": [
    {
     "data": {
      "image/png": "[encoded data removed]",
      "text/plain": [
       "<Figure size 640x480 with 1 Axes>"
      ]
     },
     "metadata": {},
     "output_type": "display_data"
    }
   ],
   "source": [
    "'''Plotting the graph of histogram vs bin_edges:'''\n",
    "\n",
    "np.random.seed(10) # For reproducibility, i.e, it returns the same set of random values every time this cell runs.\n",
    "\n",
    "mu=0.0 # Mean value of the distribution.\n",
    "sigma=1.0 # Standard deviation of the distribution.\n",
    "N=10000 # Defines the number of random variables to be used, i.e, the size of the numpy.ndarray.\n",
    "\n",
    "distribution=np.random.normal(loc=mu, scale=sigma, size=(N)) # Creates a numpy.ndarray of Gaussian (Normal) random distributed data.\n",
    "histogram, bin_edges = np.histogram(distribution, bins=30, density=False) # Unpacking the two numpy.ndarrays (histogram and bin_edges).\n",
    "\n",
    "plt.scatter(x=bin_edges[:-1], y=histogram, color = 'red', label='histogram') # Defines a scatter plot.\n",
    "plt.xlabel('Distribution or random variables (bin_edges)') # X-axis label.\n",
    "plt.ylabel('Frequency ($N_j$) (histogram)') # Y-axis label.\n",
    "plt.show()"
   ]
  },
  {
   "cell_type": "code",
   "execution_count": null,
   "metadata": {
    "colab": {
     "base_uri": "https://localhost:8080/"
    },
    "executionInfo": {
     "elapsed": 5,
     "status": "ok",
     "timestamp": 1668163123703,
     "user": {
      "displayName": "Lucas Camponogara Viera",
      "userId": "14322290658374940800"
     },
     "user_tz": -480
    },
    "hidden": true,
    "id": "eGCACw03Y_bp",
    "outputId": "8ea11e5d-d326-4b09-92ff-08cec081902d"
   },
   "outputs": [
    {
     "name": "stdout",
     "output_type": "stream",
     "text": [
      "Relevant attributes:\n",
      "\n",
      "The \"distribution\" variable is of <class 'numpy.ndarray'> and of size 10000.\n",
      "\n",
      "The min value of distribution is -3.621638796260708.\n",
      "\n",
      "The max value of distribution is 3.691489330393571.\n",
      "\n",
      "\n",
      "The \"bin_edges\" variable is of <class 'numpy.ndarray'> and of size 31.\n",
      "\n",
      "The min value of bin_edges is -3.621638796260708.\n",
      "\n",
      "The max value of bin_edges is 3.691489330393571.\n",
      "\n",
      "\n",
      "The min value of histogram is 1.\n",
      "\n",
      "The max value of histogram is 974.\n"
     ]
    }
   ],
   "source": [
    "print(f'Relevant attributes:\\n')\n",
    "\n",
    "print(f'The \"distribution\" variable is of {type(distribution)} and of size {distribution.size}.\\n')\n",
    "print(f'The min value of distribution is {np.amin(distribution)}.\\n')\n",
    "print(f'The max value of distribution is {np.amax(distribution)}.\\n\\n')\n",
    "\n",
    "print(f'The \"bin_edges\" variable is of {type(bin_edges)} and of size {bin_edges.size}.\\n') # bin_edges.size == (len(histogram)+1) >>> True.\n",
    "print(f'The min value of bin_edges is {np.amin(bin_edges)}.\\n')\n",
    "print(f'The max value of bin_edges is {np.amax(bin_edges)}.\\n\\n')\n",
    "\n",
    "print(f'The min value of histogram is {np.amin(histogram)}.\\n')\n",
    "print(f'The max value of histogram is {np.amax(histogram)}.')"
   ]
  },
  {
   "cell_type": "markdown",
   "metadata": {
    "hidden": true,
    "id": "tgh2G0iaIBBr"
   },
   "source": [
    "The sum of all values $N_j$ in the histogram divided by the population size $N$ should follow the addition rule for probabilities:\n",
    "\n",
    "$$\\sum_{j=1}^d p_j= \\sum_{j=1}^d \\frac{N_j}{N} = \\frac{\\sum_{j=1}^d N_j}{N} = \\frac{N}{N}=1.$$"
   ]
  },
  {
   "cell_type": "code",
   "execution_count": null,
   "metadata": {
    "hidden": true,
    "id": "-E6kNhMOIBBr",
    "outputId": "a009295d-df57-4caa-ba0b-623d68d4b849"
   },
   "outputs": [
    {
     "name": "stdout",
     "output_type": "stream",
     "text": [
      "The histogram is of <class 'numpy.ndarray'> and of size 30.\n",
      "\n",
      "The sum of all values in the histogram divided by N is: 1.0.\n",
      "\n",
      "\n"
     ]
    }
   ],
   "source": [
    "print(f'The histogram is of {type(histogram)} and of size {histogram.size}.\\n')\n",
    "print(f'The sum of all values in the histogram divided by N is: {sum(histogram/N)}.\\n\\n')"
   ]
  },
  {
   "cell_type": "code",
   "execution_count": null,
   "metadata": {
    "hidden": true,
    "id": "_PtaZxOTIBBr",
    "outputId": "1725e801-1ec0-48b9-9cef-fe32b6379843"
   },
   "outputs": [
    {
     "data": {
      "text/plain": [
       "True"
      ]
     },
     "execution_count": 61,
     "metadata": {},
     "output_type": "execute_result"
    }
   ],
   "source": [
    "sum(histogram/N) == sum(histogram)/N == 1 and True"
   ]
  },
  {
   "cell_type": "markdown",
   "metadata": {
    "heading_collapsed": true,
    "hidden": true,
    "id": "rJ2mp4w3IBBr"
   },
   "source": [
    "## Plot of the Probability Density Function for a Normal Distribution"
   ]
  },
  {
   "cell_type": "code",
   "execution_count": null,
   "metadata": {
    "colab": {
     "base_uri": "https://localhost:8080/",
     "height": 279
    },
    "executionInfo": {
     "elapsed": 5,
     "status": "ok",
     "timestamp": 1668163123703,
     "user": {
      "displayName": "Lucas Camponogara Viera",
      "userId": "14322290658374940800"
     },
     "user_tz": -480
    },
    "hidden": true,
    "id": "xgN03U74o3iA",
    "outputId": "764a546e-afcc-41ce-bcc8-ae7095bb5076"
   },
   "outputs": [
    {
     "data": {
      "image/png": "[encoded data removed]",
      "text/plain": [
       "<Figure size 640x480 with 1 Axes>"
      ]
     },
     "metadata": {},
     "output_type": "display_data"
    }
   ],
   "source": [
    "def gaussian_dist(mu: float, sigma: float, bins) -> np.ndarray:\n",
    "  '''\n",
    "  Custom function to compute the Normal Distribution.\n",
    "\n",
    "  Args:\n",
    "    mu (float): mean value.\n",
    "    sigma (float): Standard deviation.\n",
    "    bins (np.ndarray):\n",
    "  \n",
    "  Return:\n",
    "    dist (np.ndarray):\n",
    "  '''\n",
    "  dist = 1/(sigma * np.sqrt(2 * np.pi))*np.exp(-(bins - mu)**2 / (2 * sigma**2))\n",
    "  return dist\n",
    "\n",
    "count, bins, _ = plt.hist(distribution, bins=30, density=True)\n",
    "plt.plot(bins, gaussian_dist(mu, sigma, bins), linewidth=2, color='r')\n",
    "plt.xlabel('Distribution (bins)') # X-axis label.\n",
    "plt.ylabel('Probability Density') # Y-axis label.\n",
    "plt.show()"
   ]
  },
  {
   "cell_type": "code",
   "execution_count": null,
   "metadata": {
    "colab": {
     "base_uri": "https://localhost:8080/",
     "height": 280
    },
    "executionInfo": {
     "elapsed": 4,
     "status": "ok",
     "timestamp": 1668163123703,
     "user": {
      "displayName": "Lucas Camponogara Viera",
      "userId": "14322290658374940800"
     },
     "user_tz": -480
    },
    "hidden": true,
    "id": "0yLeT75TBHpn",
    "outputId": "151149d5-55fa-4903-b027-4625ec63538d"
   },
   "outputs": [
    {
     "data": {
      "image/png": "[encoded data removed]",
      "text/plain": [
       "<Figure size 640x480 with 1 Axes>"
      ]
     },
     "metadata": {},
     "output_type": "display_data"
    }
   ],
   "source": [
    "plt.scatter(bin_edges[:-1], np.cumsum(histogram/N), color = 'red', label='norm_histogram')\n",
    "plt.xlabel('Distribution (bin_edges)') # X-axis label.\n",
    "plt.ylabel('Relative Frequency') # Y-axis label.\n",
    "plt.show()"
   ]
  },
  {
   "cell_type": "markdown",
   "metadata": {
    "heading_collapsed": true,
    "id": "mQM4-oOhBHpq"
   },
   "source": [
    "# SciPy: `curve_fit()`"
   ]
  },
  {
   "cell_type": "markdown",
   "metadata": {
    "hidden": true,
    "id": "MrXAJjyKjqAo"
   },
   "source": [
    "$$N(t) = N_0 e^{-\\lambda t} + c.$$"
   ]
  },
  {
   "cell_type": "code",
   "execution_count": null,
   "metadata": {
    "colab": {
     "base_uri": "https://localhost:8080/",
     "height": 282
    },
    "executionInfo": {
     "elapsed": 4,
     "status": "ok",
     "timestamp": 1668163124183,
     "user": {
      "displayName": "Lucas Camponogara Viera",
      "userId": "14322290658374940800"
     },
     "user_tz": -480
    },
    "hidden": true,
    "id": "WA4ZSfSwBHpq",
    "outputId": "e1a41241-7652-4421-8668-adc7ee8606c1"
   },
   "outputs": [
    {
     "data": {
      "image/png": "[encoded data removed]",
      "text/plain": [
       "<Figure size 432x288 with 1 Axes>"
      ]
     },
     "metadata": {
      "needs_background": "light"
     },
     "output_type": "display_data"
    }
   ],
   "source": [
    "def exponential_decay(t: np.ndarray, N_0: float, lamb: float, c: float) -> np.ndarray:\n",
    "  '''\n",
    "  Function defining an exponential decay.\n",
    "\n",
    "  Args:\n",
    "    t (numpy.ndarray): a set of time step values corresponding to the duration of the decay.\n",
    "    N_0 (float): the initial value at t=0.\n",
    "    lamb (float): the exponential decay constant.\n",
    "    c (float): a constant value.\n",
    "  \n",
    "  Return: \n",
    "    continous_set (numpy.ndarray): array with the exponential decayed values.\n",
    "  '''\n",
    "  continous_set = N_0*np.exp(-lamb*t) + c\n",
    "  return continous_set\n",
    "\n",
    "xdata = np.linspace(0, 4, 50) # (start, stop, num): a numpy.ndarray of size/len 50 (time steps) with evenly spaced values between 0 and 4.\n",
    "y = exponential_decay(xdata, 2.5, 1.3, 0.5) # A numpy.ndarray with exponential decayed values.\n",
    "rng = np.random.default_rng() # Define a random generator.\n",
    "y_noise = 0.2 * rng.normal(size=xdata.size) # Define a numpy.ndarray with a normal distribution of random noise values (a.k.a Gaussian noise).\n",
    "ydata = y + y_noise # Adding noise values to the original set.\n",
    "plt.plot(xdata, ydata, 'b-', label='data') # Plotting the data.\n",
    "plt.xlabel('Duration ($t$)')\n",
    "plt.ylabel('Decay quantity ($N(t)$)')\n",
    "plt.show()"
   ]
  },
  {
   "cell_type": "code",
   "execution_count": null,
   "metadata": {
    "colab": {
     "base_uri": "https://localhost:8080/",
     "height": 265
    },
    "executionInfo": {
     "elapsed": 678,
     "status": "ok",
     "timestamp": 1668163124858,
     "user": {
      "displayName": "Lucas Camponogara Viera",
      "userId": "14322290658374940800"
     },
     "user_tz": -480
    },
    "hidden": true,
    "id": "jFiJmigRBHpq",
    "outputId": "f8cbdca2-d9f7-4841-9815-e45c6d312029"
   },
   "outputs": [
    {
     "data": {
      "image/png": "[encoded data removed]",
      "text/plain": [
       "<Figure size 432x288 with 1 Axes>"
      ]
     },
     "metadata": {
      "needs_background": "light"
     },
     "output_type": "display_data"
    }
   ],
   "source": [
    "# Plotting the fitting curve:\n",
    "\n",
    "popt, pcov = curve_fit(exponential_decay, xdata, ydata, bounds=(0, [3., 1., 0.5]))\n",
    "#popt, pcov = curve_fit(func, xdata, ydata, [2.5, 1.3, 0.5])\n",
    "plt.plot(xdata, exponential_decay(xdata, *popt), 'g--', label='fit: a=%5.3f, b=%5.3f, c=%5.3f' % tuple(popt))\n",
    "plt.show()"
   ]
  },
  {
   "cell_type": "code",
   "execution_count": null,
   "metadata": {
    "colab": {
     "base_uri": "https://localhost:8080/",
     "height": 265
    },
    "executionInfo": {
     "elapsed": 4,
     "status": "ok",
     "timestamp": 1668163124859,
     "user": {
      "displayName": "Lucas Camponogara Viera",
      "userId": "14322290658374940800"
     },
     "user_tz": -480
    },
    "hidden": true,
    "id": "g2DLB9q6BHpq",
    "outputId": "3d59dade-1962-45ca-d56e-144b42c527d5"
   },
   "outputs": [
    {
     "data": {
      "image/png": "[encoded data removed]",
      "text/plain": [
       "<Figure size 432x288 with 1 Axes>"
      ]
     },
     "metadata": {
      "needs_background": "light"
     },
     "output_type": "display_data"
    }
   ],
   "source": [
    "# Plotting the experimental data and the fitting curve:\n",
    "\n",
    "plt.scatter(xdata, ydata, label = 'data', color = 'red')\n",
    "plt.plot(xdata, exponential_decay(xdata, *popt), label = 'fit', linestyle = '--')\n",
    "plt.show()"
   ]
  }
 ],
 "metadata": {
  "colab": {
   "collapsed_sections": [
    "a473k4egBbAP",
    "axj2mIbX-ii0",
    "I7zuu_sM-T8o",
    "_pHivrJwIBBF",
    "72t2MhAZIBBG",
    "5cOmZ3cbIBBH",
    "Fn0SA2VvIBBI",
    "68YMQpxtIBBM",
    "L3igznp2IBBQ",
    "lkmyFnV5IBBQ",
    "LilWRhKCIBBR",
    "j2Fc3fraIBBT",
    "BPIPfpVuIBBU",
    "3o7P3ukGIBBU",
    "PIv-y-EAIBBW",
    "jcbL4C3KEZBL",
    "DpRpVZ1PIBBb",
    "kO6h6B9oIBBb",
    "uQikrj07IBBd",
    "yk3kpQmCIBBd",
    "yrYveoYpIBBe",
    "ZYZxMA4QIBBg",
    "8Dxl1DkIBHpi",
    "E5JCALF2JCD-",
    "o51avg2VGfdt",
    "DwiCEmKnGSMC",
    "nNOdtOd7GLuS",
    "xURfLRz4BHpm",
    "SVgRLztEIBBn",
    "rJ2mp4w3IBBr",
    "mQM4-oOhBHpq"
   ],
   "provenance": []
  },
  "kernelspec": {
   "display_name": "Python 3 (ipykernel)",
   "language": "python",
   "name": "python3"
  },
  "language_info": {
   "codemirror_mode": {
    "name": "ipython",
    "version": 3
   },
   "file_extension": ".py",
   "mimetype": "text/x-python",
   "name": "python",
   "nbconvert_exporter": "python",
   "pygments_lexer": "ipython3",
   "version": "3.8.5"
  },
  "latex_envs": {
   "LaTeX_envs_menu_present": true,
   "autoclose": false,
   "autocomplete": true,
   "bibliofile": "biblio.bib",
   "cite_by": "apalike",
   "current_citInitial": 1,
   "eqLabelWithNumbers": true,
   "eqNumInitial": 1,
   "hotkeys": {
    "equation": "Ctrl-E",
    "itemize": "Ctrl-I"
   },
   "labels_anchors": false,
   "latex_user_defs": false,
   "report_style_numbering": false,
   "user_envs_cfg": false
  }
 },
 "nbformat": 4,
 "nbformat_minor": 1
}
